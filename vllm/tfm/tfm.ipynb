{
 "cells": [
  {
   "cell_type": "code",
   "execution_count": 1,
   "metadata": {},
   "outputs": [
    {
     "name": "stderr",
     "output_type": "stream",
     "text": [
      "/home/rog0d/miniconda3/envs/vllm/lib/python3.10/site-packages/tqdm/auto.py:21: TqdmWarning: IProgress not found. Please update jupyter and ipywidgets. See https://ipywidgets.readthedocs.io/en/stable/user_install.html\n",
      "  from .autonotebook import tqdm as notebook_tqdm\n",
      "2024-10-25 11:17:30,623\tINFO util.py:154 -- Missing packages: ['ipywidgets']. Run `pip install -U ipywidgets`, then restart the notebook server for rich notebook output.\n"
     ]
    }
   ],
   "source": [
    "from vllm import LLM, SamplingParams\n",
    "from dotenv import load_dotenv\n",
    "from lark import Lark, exceptions\n",
    "from lark.indenter import Indenter\n",
    "from random import randint\n",
    "import time\n",
    "import sympy as sp\n",
    "\n",
    "\n",
    "import json\n",
    "import os"
   ]
  },
  {
   "cell_type": "code",
   "execution_count": 2,
   "metadata": {},
   "outputs": [],
   "source": [
    "EXPERIMENT_TYPE = \"gbd+fewshots\"\n",
    "SAMPLES = 1\n",
    "MAX_TOKENS = 100\n",
    "MODEL = \"meta-llama/Meta-Llama-3-8B-Instruct\""
   ]
  },
  {
   "cell_type": "code",
   "execution_count": 3,
   "metadata": {},
   "outputs": [],
   "source": [
    "# Auxiliar functions\n",
    "class Generation:\n",
    "    def __init__(self, seed, elapsed_time, gen):\n",
    "        \"\"\"\n",
    "        arrival_time: The time when the request arrived. \n",
    "         first_scheduled_time: The time when the request was first scheduled. \n",
    "         first_token_time: The time when the first token was generated. \n",
    "         time_in_queue: The time the request spent in the queue. \n",
    "         finished_time: The time when the request was finished. \n",
    "        \"\"\"\n",
    "        # Elapsed time its based on vLLM values finished_time - arrival_time\n",
    "        self.seed = seed\n",
    "        self.elapsed_time = elapsed_time\n",
    "        self.gen = gen\n",
    "\n",
    "    def load(model, experiment, samples, max_tokens):\n",
    "        with open(f\"./samples/{model}/{experiment}/{samples}e_{max_tokens}t.jsonl\", \"r\") as file:\n",
    "            results = []\n",
    "            for line in file:\n",
    "                result = json.loads(line, object_hook=gen_encoder)\n",
    "                results.append(result)\n",
    "            return results\n",
    "        \n",
    "    def __str__(self):\n",
    "        print = json.dumps(self.__dict__)\n",
    "        return print\n",
    "    \n",
    "    def __repr__(self):\n",
    "        print = json.dumps(self.__dict__)\n",
    "        return print\n",
    "\n",
    "\n",
    "class Result:\n",
    "    def __init__(self, seeds: list[int], elapsed_time_gen: list[int], syntax_validation: list[int], semantic_validation: list[int]):\n",
    "        self.model = MODEL\n",
    "        self.experiment_type = EXPERIMENT_TYPE\n",
    "        self.samples = SAMPLES\n",
    "        self.max_tokens= MAX_TOKENS\n",
    "        self.seeds = [seed for seed in seeds[:SAMPLES]]\n",
    "        self.elapsed_time_gen = [elapsed for elapsed in elapsed_time_gen[:SAMPLES]]\n",
    "        self.syntax_validation = syntax_validation\n",
    "        self.semantic_validation = semantic_validation\n",
    "\n",
    "    def __init__(self, model:str, experiment_type: str, samples:int, max_tokens:int, seeds: list[int], elapsed_time_gen: list[int], syntax_validation: list[int], semantic_validation: list[int]):\n",
    "        self.model = model\n",
    "        self.experiment_type = experiment_type\n",
    "        self.samples = samples\n",
    "        self.max_tokens= max_tokens\n",
    "        self.seeds = [seed for seed in seeds[:samples]]\n",
    "        self.elapsed_time_gen = [elapsed for elapsed in elapsed_time_gen[:samples]]\n",
    "        self.syntax_validation = syntax_validation\n",
    "        self.semantic_validation = semantic_validation\n",
    "\n",
    "    def save(self):\n",
    "        with open(f\"./results/{self.model}/{self.experiment_type}/{self.samples}e_{self.max_tokens}t.jsonl\", 'w') as file:\n",
    "            json_line = json.dumps(self.__dict__)\n",
    "            file.write(json_line + \"\\n\")\n",
    "        \n",
    "    \n",
    "    def load(model, experiment, samples, max_tokens):\n",
    "        with open(f\"./results/{model}/{experiment}/{samples}e_{max_tokens}t.jsonl\", \"r\") as file:\n",
    "            for line in file:\n",
    "                results = json.loads(line, object_hook=result_encoder)\n",
    "            return results\n",
    "        \n",
    "    def __str__(self):\n",
    "        print = json.dumps(self.__dict__)\n",
    "        return print\n",
    "    \n",
    "    def __repr__(self):\n",
    "        print = json.dumps(self.__dict__)\n",
    "        return print\n",
    "    \n",
    "def result_encoder(r):\n",
    "    return Result(model=r['model'], experiment_type=r['experiment_type'], samples=r['samples'], max_tokens=r['max_tokens'],\n",
    "                    seeds=r['seeds'], syntax_validation= r['syntax_validation'], semantic_validation=r['semantic_validation'])\n",
    "\n",
    "def gen_encoder(g):\n",
    "    return Generation(seed=g['seed'], elapsed_time=g['elapsed_time'], gen=g['gen'])\n",
    "\n",
    "def fixed_seeds():\n",
    "    # Taking the 100 samples seed from the first 100 samples experiment\n",
    "    fixed_seeds = []\n",
    "    with open(f\"./seeds/100.jsonl\", \"r\") as file:\n",
    "        for line in file:\n",
    "            fixed_seeds = json.loads(line)\n",
    "    return fixed_seeds\n",
    "\n",
    "def semantic_test(generation: str):\n",
    "    sp.sympify(generation)\n",
    "\n",
    "def syntax_text(generation: str, parser):\n",
    "    parser.parse(generation).pretty()\n",
    "\n",
    "def gen_preproc(generation:str):\n",
    "    eot_id_comparison = None\n",
    "    match EXPERIMENT_TYPE:\n",
    "        case \"nogbd\":\n",
    "            # Treatment for returning generation until <|eot_id|>\n",
    "            eot_id_gen = generation.split(\"<|eot_id|>\")[0]\n",
    "            # Treatment for replace =(comparision) with == (used in no gbd generation), As using simpify (Python code simulation)\n",
    "            eot_id_comparison = eot_id_gen.replace(\"=\", \"==\")\n",
    "\n",
    "        case \"gbd\":\n",
    "            # Treatment for returning generation until <|eot_id|>\n",
    "            eot_id_comparison = generation.split(\"<|eot_id|>\")[0]\n",
    "\n",
    "        case \"gbd+fewshots\":\n",
    "            # Treatment for returning generation until <|eot_id|>\n",
    "            eot_id_comparison = generation.split(\"<|eot_id|>\")[0]\n",
    "\n",
    "    return eot_id_comparison\n"
   ]
  },
  {
   "cell_type": "code",
   "execution_count": 4,
   "metadata": {},
   "outputs": [
    {
     "name": "stdout",
     "output_type": "stream",
     "text": [
      "\n",
      "<|begin_of_text|><|start_header_id|>system<|end_header_id|>\n",
      "\n",
      "You are a helpful AI assistant for creating gramatically, equivalent and correct arithmetical expression<|eot_id|>\n",
      "<|start_header_id|>user<|end_header_id|>\n",
      "Given the following examples:\n",
      "\n",
      "(5*5)=(5+5+5+5+5)=(25*1)=(5*3)+(5*2).\n",
      "\n",
      "(3*3)=(3+3+3)=(3+6)=(9*1).\n",
      "\n",
      "(3*4*5)=3*(2+2)*5=15*4=15*(2+2)=(12*5)=(20*3).\n",
      "\n",
      "Rewrite 9 * 15 as others equivalents expressions:\n",
      "<|eot_id|><|start_header_id|>assistant<|end_header_id|>\n",
      "\n"
     ]
    }
   ],
   "source": [
    "\n",
    "arithmetic_grammar = \"\"\"\n",
    "?start: comparison\n",
    "\n",
    "?comparison: expression (\"==\" expression)* \"<|eot_id|>\"?\n",
    "\n",
    "?expression: term ((\"+\" | \"-\") term)*\n",
    "\n",
    "?term: factor ((\"*\" | \"/\") factor)*\n",
    "\n",
    "?factor: NUMBER\n",
    "       | \"-\" factor\n",
    "       | \"(\" comparison \")\"\n",
    "\n",
    "%import common.NUMBER\n",
    "%ignore \" \"  // Ignore spaces\n",
    "\n",
    "// Define <|eot_id|> as a terminal\n",
    "EOT_ID: \"<|eot_id|>\"\n",
    "\"\"\"\n",
    "\n",
    "arithmetic_prompt = None\n",
    "\n",
    "match EXPERIMENT_TYPE:\n",
    "    case \"gbd\":\n",
    "        arithmetic_prompt=f\"\"\"\n",
    "<|begin_of_text|><|start_header_id|>system<|end_header_id|>\n",
    "\n",
    "You are a helpful AI assistant for creating gramatically and sintactically arithmetic expression<|eot_id|>\n",
    "<|start_header_id|>user<|end_header_id|>\n",
    "Rewrite 9 * 15 as others equivalents expressions:\n",
    "Follow this example:\n",
    "(5*5)=(5+5+5+5+5)=(25*1)=(5*3)+(5*2). \n",
    "<|eot_id|><|start_header_id|>assistant<|end_header_id|>\n",
    "\"\"\"\n",
    "        \n",
    "    case \"nogbd\":\n",
    "        arithmetic_prompt=f\"\"\"\n",
    "<|begin_of_text|><|start_header_id|>system<|end_header_id|>\n",
    "\n",
    "You are a helpful AI assistant for creating gramatically and sintactically arithmetic expression<|eot_id|>\n",
    "<|start_header_id|>user<|end_header_id|>\n",
    "Rewrite 9 * 15 as other equivalent expression, for the response, do not use text.\n",
    "Just only characters available in this grammar: {arithmetic_grammar}<|eot_id|>\n",
    "<|start_header_id|>assistant<|end_header_id|>\n",
    "\"\"\"\n",
    "        \n",
    "    case \"gbd+fewshots\":\n",
    "        arithmetic_prompt=\"\"\"\n",
    "<|begin_of_text|><|start_header_id|>system<|end_header_id|>\n",
    "\n",
    "You are a helpful AI assistant for creating gramatically, equivalent and correct arithmetical expression<|eot_id|>\n",
    "<|start_header_id|>user<|end_header_id|>\n",
    "Given the following examples:\\n\n",
    "(5*5)=(5+5+5+5+5)=(25*1)=(5*3)+(5*2).\\n\n",
    "(3*3)=(3+3+3)=(3+6)=(9*1).\\n\n",
    "(3*4*5)=3*(2+2)*5=15*4=15*(2+2)=(12*5)=(20*3).\\n\n",
    "Rewrite 9 * 15 as others equivalents expressions:\n",
    "<|eot_id|><|start_header_id|>assistant<|end_header_id|>\n",
    "\"\"\"\n",
    "\n",
    "    case \"grammar_in_prompt\":\n",
    "        arithmetic_prompt=f\"\"\"\n",
    "<|begin_of_text|><|start_header_id|>system<|end_header_id|>\n",
    "\n",
    "You are a helpful AI assistant for creating gramatically and sintactically expression given this specific grammar: {arithmetic_grammar}<|eot_id|>\n",
    "<|start_header_id|>user<|end_header_id|>\n",
    "Rewrite 9 * 15 as others equivalents expressions:\n",
    "<|eot_id|><|start_header_id|>assistant<|end_header_id|>\n",
    "\"\"\"\n",
    "\n",
    "grammar = arithmetic_grammar\n",
    "\n",
    "print(arithmetic_prompt)"
   ]
  },
  {
   "cell_type": "code",
   "execution_count": null,
   "metadata": {},
   "outputs": [
    {
     "name": "stdout",
     "output_type": "stream",
     "text": [
      "WARNING 10-25 11:19:57 config.py:1563] Casting torch.bfloat16 to torch.float16.\n",
      "INFO 10-25 11:19:57 config.py:813] Defaulting to use mp for distributed inference\n",
      "INFO 10-25 11:19:57 llm_engine.py:184] Initializing an LLM engine (v0.5.5) with config: model='meta-llama/Meta-Llama-3-8B-Instruct', speculative_config=None, tokenizer='meta-llama/Meta-Llama-3-8B-Instruct', skip_tokenizer_init=False, tokenizer_mode=auto, revision=None, rope_scaling=None, rope_theta=None, tokenizer_revision=None, trust_remote_code=False, dtype=torch.float16, max_seq_len=8192, download_dir=None, load_format=LoadFormat.AUTO, tensor_parallel_size=8, pipeline_parallel_size=1, disable_custom_all_reduce=False, quantization=None, enforce_eager=False, kv_cache_dtype=auto, quantization_param_path=None, device_config=cuda, decoding_config=DecodingConfig(guided_decoding_backend='outlines'), observability_config=ObservabilityConfig(otlp_traces_endpoint=None, collect_model_forward_time=False, collect_model_execute_time=False), seed=0, served_model_name=meta-llama/Meta-Llama-3-8B-Instruct, use_v2_block_manager=False, enable_prefix_caching=False)\n",
      "\u001b[1;36m(VllmWorkerProcess pid=2214547)\u001b[0;0m \u001b[1;36m(VllmWorkerProcess pid=2214548)\u001b[0;0m INFO 10-25 11:19:58 selector.py:217] Cannot use FlashAttention-2 backend for Volta and Turing GPUs.\n",
      "\u001b[1;36m(VllmWorkerProcess pid=2214548)\u001b[0;0m INFO 10-25 11:19:58 selector.py:217] Cannot use FlashAttention-2 backend for Volta and Turing GPUs.\n",
      "INFO 10-25 11:19:58 selector.py:116] Using XFormers backend.\n",
      "\u001b[1;36m(VllmWorkerProcess pid=2214547)\u001b[0;0m \u001b[1;36m(VllmWorkerProcess pid=2214548)\u001b[0;0m INFO 10-25 11:19:58 multiproc_worker_utils.py:215] Worker ready; awaiting tasks\n",
      "INFO 10-25 11:19:58 selector.py:116] Using XFormers backend.\n",
      "\u001b[1;36m(VllmWorkerProcess pid=2214547)\u001b[0;0m \u001b[1;36m(VllmWorkerProcess pid=2214553)\u001b[0;0m INFO 10-25 11:19:58 multiproc_worker_utils.py:215] Worker ready; awaiting tasks\n",
      "INFO 10-25 11:19:58 selector.py:217] Cannot use FlashAttention-2 backend for Volta and Turing GPUs.\n",
      "\u001b[1;36m(VllmWorkerProcess pid=2214553)\u001b[0;0m INFO 10-25 11:19:58 selector.py:116] Using XFormers backend.\n",
      "\u001b[1;36m(VllmWorkerProcess pid=2214553)\u001b[0;0m INFO 10-25 11:19:58 multiproc_worker_utils.py:215] Worker ready; awaiting tasks\n",
      "\u001b[1;36m(VllmWorkerProcess pid=2214574)\u001b[0;0m INFO 10-25 11:19:58 selector.py:217] Cannot use FlashAttention-2 backend for Volta and Turing GPUs.\n",
      "\u001b[1;36m(VllmWorkerProcess pid=2214574)\u001b[0;0m INFO 10-25 11:19:58 selector.py:116] Using XFormers backend.\n",
      "\u001b[1;36m(VllmWorkerProcess pid=2214574)\u001b[0;0m INFO 10-25 11:19:58 multiproc_worker_utils.py:215] Worker ready; awaiting tasks\n",
      "\u001b[1;36m(VllmWorkerProcess pid=2214591)\u001b[0;0m INFO 10-25 11:19:58 selector.py:217] Cannot use FlashAttention-2 backend for Volta and Turing GPUs.\n",
      "\u001b[1;36m(VllmWorkerProcess pid=2214591)\u001b[0;0m INFO 10-25 11:19:58 selector.py:116] Using XFormers backend.\n",
      "\u001b[1;36m(VllmWorkerProcess pid=2214591)\u001b[0;0m INFO 10-25 11:19:58 multiproc_worker_utils.py:215] Worker ready; awaiting tasks\n",
      "\u001b[1;36m(VllmWorkerProcess pid=2214605)\u001b[0;0m INFO 10-25 11:19:58 selector.py:217] Cannot use FlashAttention-2 backend for Volta and Turing GPUs.\n",
      "INFO 10-25 11:19:58 selector.py:217] Cannot use FlashAttention-2 backend for Volta and Turing GPUs.\n",
      "\u001b[1;36m(VllmWorkerProcess pid=2214605)\u001b[0;0m INFO 10-25 11:19:58 selector.py:116] Using XFormers backend.\n",
      "\u001b[1;36m(VllmWorkerProcess pid=2214605)\u001b[0;0m INFO 10-25 11:19:58 multiproc_worker_utils.py:215] Worker ready; awaiting tasks\n",
      "INFO 10-25 11:19:58 selector.py:116] Using XFormers backend.\n",
      "\u001b[1;36m(VllmWorkerProcess pid=2214618)\u001b[0;0m INFO 10-25 11:19:58 selector.py:217] Cannot use FlashAttention-2 backend for Volta and Turing GPUs.\n",
      "\u001b[1;36m(VllmWorkerProcess pid=2214618)\u001b[0;0m INFO 10-25 11:19:58 selector.py:116] Using XFormers backend.\n",
      "\u001b[1;36m(VllmWorkerProcess pid=2214618)\u001b[0;0m INFO 10-25 11:19:58 multiproc_worker_utils.py:215] Worker ready; awaiting tasks\n",
      "\u001b[1;36m(VllmWorkerProcess pid=2214574)\u001b[0;0m \u001b[1;36m(VllmWorkerProcess pid=2214548)\u001b[0;0m \u001b[1;36m(VllmWorkerProcess pid=2214591)\u001b[0;0m \u001b[1;36m(VllmWorkerProcess pid=2214547)\u001b[0;0m ERROR 10-25 11:19:58 multiproc_worker_utils.py:226] Exception in worker VllmWorkerProcess while processing method init_device: Cannot re-initialize CUDA in forked subprocess. To use CUDA with multiprocessing, you must use the 'spawn' start method, Traceback (most recent call last):\n",
      "\u001b[1;36m(VllmWorkerProcess pid=2214605)\u001b[0;0m ERROR 10-25 11:19:58 multiproc_worker_utils.py:226] Exception in worker VllmWorkerProcess while processing method init_device: Cannot re-initialize CUDA in forked subprocess. To use CUDA with multiprocessing, you must use the 'spawn' start method, Traceback (most recent call last):\n",
      "\u001b[1;36m(VllmWorkerProcess pid=2214553)\u001b[0;0m ERROR 10-25 11:19:58 multiproc_worker_utils.py:226] Exception in worker VllmWorkerProcess while processing method init_device: Cannot re-initialize CUDA in forked subprocess. To use CUDA with multiprocessing, you must use the 'spawn' start method, Traceback (most recent call last):\n",
      "ERROR 10-25 11:19:58 multiproc_worker_utils.py:226] Exception in worker VllmWorkerProcess while processing method init_device: Cannot re-initialize CUDA in forked subprocess. To use CUDA with multiprocessing, you must use the 'spawn' start method, Traceback (most recent call last):\n",
      "\u001b[1;36m(VllmWorkerProcess pid=2214574)\u001b[0;0m ERROR 10-25 11:19:58 multiproc_worker_utils.py:226] Exception in worker VllmWorkerProcess while processing method init_device: Cannot re-initialize CUDA in forked subprocess. To use CUDA with multiprocessing, you must use the 'spawn' start method, Traceback (most recent call last):\n",
      "\u001b[1;36m(VllmWorkerProcess pid=2214548)\u001b[0;0m ERROR 10-25 11:19:58 multiproc_worker_utils.py:226] Exception in worker VllmWorkerProcess while processing method init_device: Cannot re-initialize CUDA in forked subprocess. To use CUDA with multiprocessing, you must use the 'spawn' start method, Traceback (most recent call last):\n",
      "\u001b[1;36m(VllmWorkerProcess pid=2214591)\u001b[0;0m \u001b[1;36m(VllmWorkerProcess pid=2214547)\u001b[0;0m ERROR 10-25 11:19:58 multiproc_worker_utils.py:226]   File \"/home/rog0d/miniconda3/envs/vllm/lib/python3.10/site-packages/vllm/executor/multiproc_worker_utils.py\", line 223, in _run_worker_process\n",
      "\u001b[1;36m(VllmWorkerProcess pid=2214605)\u001b[0;0m \u001b[1;36m(VllmWorkerProcess pid=2214553)\u001b[0;0m ERROR 10-25 11:19:58 multiproc_worker_utils.py:226]   File \"/home/rog0d/miniconda3/envs/vllm/lib/python3.10/site-packages/vllm/executor/multiproc_worker_utils.py\", line 223, in _run_worker_process\n",
      "ERROR 10-25 11:19:58 multiproc_worker_utils.py:226]   File \"/home/rog0d/miniconda3/envs/vllm/lib/python3.10/site-packages/vllm/executor/multiproc_worker_utils.py\", line 223, in _run_worker_process\n",
      "ERROR 10-25 11:19:58 multiproc_worker_utils.py:226]   File \"/home/rog0d/miniconda3/envs/vllm/lib/python3.10/site-packages/vllm/executor/multiproc_worker_utils.py\", line 223, in _run_worker_process\n",
      "\u001b[1;36m(VllmWorkerProcess pid=2214574)\u001b[0;0m ERROR 10-25 11:19:58 multiproc_worker_utils.py:226]   File \"/home/rog0d/miniconda3/envs/vllm/lib/python3.10/site-packages/vllm/executor/multiproc_worker_utils.py\", line 223, in _run_worker_process\n",
      "\u001b[1;36m(VllmWorkerProcess pid=2214548)\u001b[0;0m \u001b[1;36m(VllmWorkerProcess pid=2214591)\u001b[0;0m ERROR 10-25 11:19:58 multiproc_worker_utils.py:226]   File \"/home/rog0d/miniconda3/envs/vllm/lib/python3.10/site-packages/vllm/executor/multiproc_worker_utils.py\", line 223, in _run_worker_process\n",
      "\u001b[1;36m(VllmWorkerProcess pid=2214547)\u001b[0;0m ERROR 10-25 11:19:58 multiproc_worker_utils.py:226]     output = executor(*args, **kwargs)\n",
      "ERROR 10-25 11:19:58 multiproc_worker_utils.py:226]     output = executor(*args, **kwargs)\n",
      "ERROR 10-25 11:19:58 multiproc_worker_utils.py:226]     output = executor(*args, **kwargs)\n",
      "\u001b[1;36m(VllmWorkerProcess pid=2214553)\u001b[0;0m \u001b[1;36m(VllmWorkerProcess pid=2214605)\u001b[0;0m ERROR 10-25 11:19:58 multiproc_worker_utils.py:226]     output = executor(*args, **kwargs)\n",
      "\u001b[1;36m(VllmWorkerProcess pid=2214574)\u001b[0;0m \u001b[1;36m(VllmWorkerProcess pid=2214548)\u001b[0;0m ERROR 10-25 11:19:58 multiproc_worker_utils.py:226]     output = executor(*args, **kwargs)\n",
      "ERROR 10-25 11:19:58 multiproc_worker_utils.py:226]     output = executor(*args, **kwargs)\n",
      "\u001b[1;36m(VllmWorkerProcess pid=2214547)\u001b[0;0m ERROR 10-25 11:19:58 multiproc_worker_utils.py:226]   File \"/home/rog0d/miniconda3/envs/vllm/lib/python3.10/site-packages/vllm/worker/worker.py\", line 166, in init_device\n",
      "\u001b[1;36m(VllmWorkerProcess pid=2214591)\u001b[0;0m \u001b[1;36m(VllmWorkerProcess pid=2214605)\u001b[0;0m ERROR 10-25 11:19:58 multiproc_worker_utils.py:226]   File \"/home/rog0d/miniconda3/envs/vllm/lib/python3.10/site-packages/vllm/worker/worker.py\", line 166, in init_device\n",
      "ERROR 10-25 11:19:58 multiproc_worker_utils.py:226]   File \"/home/rog0d/miniconda3/envs/vllm/lib/python3.10/site-packages/vllm/worker/worker.py\", line 166, in init_device\n",
      "\u001b[1;36m(VllmWorkerProcess pid=2214553)\u001b[0;0m \u001b[1;36m(VllmWorkerProcess pid=2214548)\u001b[0;0m \u001b[1;36m(VllmWorkerProcess pid=2214547)\u001b[0;0m ERROR 10-25 11:19:58 multiproc_worker_utils.py:226]   File \"/home/rog0d/miniconda3/envs/vllm/lib/python3.10/site-packages/vllm/worker/worker.py\", line 166, in init_device\n",
      "ERROR 10-25 11:19:58 multiproc_worker_utils.py:226]   File \"/home/rog0d/miniconda3/envs/vllm/lib/python3.10/site-packages/vllm/worker/worker.py\", line 166, in init_device\n",
      "\u001b[1;36m(VllmWorkerProcess pid=2214574)\u001b[0;0m ERROR 10-25 11:19:58 multiproc_worker_utils.py:226]     torch.cuda.set_device(self.device)\n",
      "ERROR 10-25 11:19:58 multiproc_worker_utils.py:226]   File \"/home/rog0d/miniconda3/envs/vllm/lib/python3.10/site-packages/vllm/worker/worker.py\", line 166, in init_device\n",
      "ERROR 10-25 11:19:58 multiproc_worker_utils.py:226]     torch.cuda.set_device(self.device)\n",
      "\u001b[1;36m(VllmWorkerProcess pid=2214591)\u001b[0;0m \u001b[1;36m(VllmWorkerProcess pid=2214605)\u001b[0;0m \u001b[1;36m(VllmWorkerProcess pid=2214553)\u001b[0;0m ERROR 10-25 11:19:58 multiproc_worker_utils.py:226]     torch.cuda.set_device(self.device)\n",
      "\u001b[1;36m(VllmWorkerProcess pid=2214547)\u001b[0;0m \u001b[1;36m(VllmWorkerProcess pid=2214548)\u001b[0;0m ERROR 10-25 11:19:58 multiproc_worker_utils.py:226]     torch.cuda.set_device(self.device)\n",
      "ERROR 10-25 11:19:58 multiproc_worker_utils.py:226]     torch.cuda.set_device(self.device)\n",
      "\u001b[1;36m(VllmWorkerProcess pid=2214574)\u001b[0;0m ERROR 10-25 11:19:58 multiproc_worker_utils.py:226]     torch.cuda.set_device(self.device)\n",
      "ERROR 10-25 11:19:58 multiproc_worker_utils.py:226]   File \"/home/rog0d/miniconda3/envs/vllm/lib/python3.10/site-packages/torch/cuda/__init__.py\", line 420, in set_device\n",
      "ERROR 10-25 11:19:58 multiproc_worker_utils.py:226]   File \"/home/rog0d/miniconda3/envs/vllm/lib/python3.10/site-packages/torch/cuda/__init__.py\", line 420, in set_device\n",
      "\u001b[1;36m(VllmWorkerProcess pid=2214548)\u001b[0;0m \u001b[1;36m(VllmWorkerProcess pid=2214605)\u001b[0;0m \u001b[1;36m(VllmWorkerProcess pid=2214553)\u001b[0;0m \u001b[1;36m(VllmWorkerProcess pid=2214547)\u001b[0;0m \u001b[1;36m(VllmWorkerProcess pid=2214591)\u001b[0;0m ERROR 10-25 11:19:58 multiproc_worker_utils.py:226]   File \"/home/rog0d/miniconda3/envs/vllm/lib/python3.10/site-packages/torch/cuda/__init__.py\", line 420, in set_device\n",
      "ERROR 10-25 11:19:58 multiproc_worker_utils.py:226]     torch._C._cuda_setDevice(device)\n",
      "ERROR 10-25 11:19:58 multiproc_worker_utils.py:226]   File \"/home/rog0d/miniconda3/envs/vllm/lib/python3.10/site-packages/torch/cuda/__init__.py\", line 420, in set_device\n",
      "ERROR 10-25 11:19:58 multiproc_worker_utils.py:226]   File \"/home/rog0d/miniconda3/envs/vllm/lib/python3.10/site-packages/torch/cuda/__init__.py\", line 420, in set_device\n",
      "ERROR 10-25 11:19:58 multiproc_worker_utils.py:226]     torch._C._cuda_setDevice(device)\n",
      "ERROR 10-25 11:19:58 multiproc_worker_utils.py:226]   File \"/home/rog0d/miniconda3/envs/vllm/lib/python3.10/site-packages/torch/cuda/__init__.py\", line 420, in set_device\n",
      "\u001b[1;36m(VllmWorkerProcess pid=2214574)\u001b[0;0m \u001b[1;36m(VllmWorkerProcess pid=2214548)\u001b[0;0m \u001b[1;36m(VllmWorkerProcess pid=2214553)\u001b[0;0m \u001b[1;36m(VllmWorkerProcess pid=2214547)\u001b[0;0m \u001b[1;36m(VllmWorkerProcess pid=2214591)\u001b[0;0m \u001b[1;36m(VllmWorkerProcess pid=2214605)\u001b[0;0m ERROR 10-25 11:19:58 multiproc_worker_utils.py:226]     torch._C._cuda_setDevice(device)\n",
      "ERROR 10-25 11:19:58 multiproc_worker_utils.py:226]   File \"/home/rog0d/miniconda3/envs/vllm/lib/python3.10/site-packages/torch/cuda/__init__.py\", line 300, in _lazy_init\n",
      "ERROR 10-25 11:19:58 multiproc_worker_utils.py:226]     torch._C._cuda_setDevice(device)\n",
      "\u001b[1;36m(VllmWorkerProcess pid=2214548)\u001b[0;0m ERROR 10-25 11:19:58 multiproc_worker_utils.py:226]     torch._C._cuda_setDevice(device)\n",
      "ERROR 10-25 11:19:58 multiproc_worker_utils.py:226]     torch._C._cuda_setDevice(device)\n",
      "\u001b[1;36m(VllmWorkerProcess pid=2214553)\u001b[0;0m ERROR 10-25 11:19:58 multiproc_worker_utils.py:226]   File \"/home/rog0d/miniconda3/envs/vllm/lib/python3.10/site-packages/torch/cuda/__init__.py\", line 300, in _lazy_init\n",
      "\u001b[1;36m(VllmWorkerProcess pid=2214574)\u001b[0;0m \u001b[1;36m(VllmWorkerProcess pid=2214605)\u001b[0;0m ERROR 10-25 11:19:58 multiproc_worker_utils.py:226]     raise RuntimeError(\n",
      "ERROR 10-25 11:19:58 multiproc_worker_utils.py:226]   File \"/home/rog0d/miniconda3/envs/vllm/lib/python3.10/site-packages/torch/cuda/__init__.py\", line 300, in _lazy_init\n",
      "\u001b[1;36m(VllmWorkerProcess pid=2214591)\u001b[0;0m \u001b[1;36m(VllmWorkerProcess pid=2214547)\u001b[0;0m ERROR 10-25 11:19:58 multiproc_worker_utils.py:226]   File \"/home/rog0d/miniconda3/envs/vllm/lib/python3.10/site-packages/torch/cuda/__init__.py\", line 300, in _lazy_init\n",
      "\u001b[1;36m(VllmWorkerProcess pid=2214548)\u001b[0;0m ERROR 10-25 11:19:58 multiproc_worker_utils.py:226]   File \"/home/rog0d/miniconda3/envs/vllm/lib/python3.10/site-packages/torch/cuda/__init__.py\", line 300, in _lazy_init\n",
      "\u001b[1;36m(VllmWorkerProcess pid=2214553)\u001b[0;0m ERROR 10-25 11:19:58 multiproc_worker_utils.py:226]   File \"/home/rog0d/miniconda3/envs/vllm/lib/python3.10/site-packages/torch/cuda/__init__.py\", line 300, in _lazy_init\n",
      "ERROR 10-25 11:19:58 multiproc_worker_utils.py:226]     raise RuntimeError(\n",
      "\u001b[1;36m(VllmWorkerProcess pid=2214574)\u001b[0;0m ERROR 10-25 11:19:58 multiproc_worker_utils.py:226] RuntimeError: Cannot re-initialize CUDA in forked subprocess. To use CUDA with multiprocessing, you must use the 'spawn' start method\n",
      "ERROR 10-25 11:19:58 multiproc_worker_utils.py:226]     raise RuntimeError(\n",
      "\u001b[1;36m(VllmWorkerProcess pid=2214605)\u001b[0;0m \u001b[1;36m(VllmWorkerProcess pid=2214547)\u001b[0;0m \u001b[1;36m(VllmWorkerProcess pid=2214548)\u001b[0;0m \u001b[1;36m(VllmWorkerProcess pid=2214591)\u001b[0;0m ERROR 10-25 11:19:58 multiproc_worker_utils.py:226]     raise RuntimeError(\n",
      "\u001b[1;36m(VllmWorkerProcess pid=2214553)\u001b[0;0m ERROR 10-25 11:19:58 multiproc_worker_utils.py:226]     raise RuntimeError(\n",
      "ERROR 10-25 11:19:58 multiproc_worker_utils.py:226] RuntimeError: Cannot re-initialize CUDA in forked subprocess. To use CUDA with multiprocessing, you must use the 'spawn' start method\n",
      "ERROR 10-25 11:19:58 multiproc_worker_utils.py:226]     raise RuntimeError(\n",
      "ERROR 10-25 11:19:58 multiproc_worker_utils.py:226] \n",
      "\u001b[1;36m(VllmWorkerProcess pid=2214574)\u001b[0;0m ERROR 10-25 11:19:58 multiproc_worker_utils.py:226] RuntimeError: Cannot re-initialize CUDA in forked subprocess. To use CUDA with multiprocessing, you must use the 'spawn' start method\n",
      "\u001b[1;36m(VllmWorkerProcess pid=2214605)\u001b[0;0m \u001b[1;36m(VllmWorkerProcess pid=2214547)\u001b[0;0m \u001b[1;36m(VllmWorkerProcess pid=2214591)\u001b[0;0m \u001b[1;36m(VllmWorkerProcess pid=2214553)\u001b[0;0m ERROR 10-25 11:19:58 multiproc_worker_utils.py:226] \n",
      "ERROR 10-25 11:19:58 multiproc_worker_utils.py:226] RuntimeError: Cannot re-initialize CUDA in forked subprocess. To use CUDA with multiprocessing, you must use the 'spawn' start method\n",
      "ERROR 10-25 11:19:58 multiproc_worker_utils.py:226] RuntimeError: Cannot re-initialize CUDA in forked subprocess. To use CUDA with multiprocessing, you must use the 'spawn' start method\n",
      "ERROR 10-25 11:19:58 multiproc_worker_utils.py:226] \n",
      "ERROR 10-25 11:19:58 multiproc_worker_utils.py:226] RuntimeError: Cannot re-initialize CUDA in forked subprocess. To use CUDA with multiprocessing, you must use the 'spawn' start method\n",
      "\u001b[1;36m(VllmWorkerProcess pid=2214574)\u001b[0;0m \u001b[1;36m(VllmWorkerProcess pid=2214605)\u001b[0;0m \u001b[1;36m(VllmWorkerProcess pid=2214591)\u001b[0;0m ERROR 10-25 11:19:58 multiproc_worker_utils.py:226] \n",
      "ERROR 10-25 11:19:58 multiproc_worker_utils.py:226] \n",
      "ERROR 10-25 11:19:58 multiproc_worker_utils.py:226] \n",
      "\u001b[1;36m(VllmWorkerProcess pid=2214618)\u001b[0;0m ERROR 10-25 11:19:58 multiproc_worker_utils.py:226] Exception in worker VllmWorkerProcess while processing method init_device: Cannot re-initialize CUDA in forked subprocess. To use CUDA with multiprocessing, you must use the 'spawn' start method, Traceback (most recent call last):\n",
      "\u001b[1;36m(VllmWorkerProcess pid=2214618)\u001b[0;0m ERROR 10-25 11:19:58 multiproc_worker_utils.py:226]   File \"/home/rog0d/miniconda3/envs/vllm/lib/python3.10/site-packages/vllm/executor/multiproc_worker_utils.py\", line 223, in _run_worker_process\n",
      "\u001b[1;36m(VllmWorkerProcess pid=2214618)\u001b[0;0m ERROR 10-25 11:19:58 multiproc_worker_utils.py:226]     output = executor(*args, **kwargs)\n",
      "\u001b[1;36m(VllmWorkerProcess pid=2214618)\u001b[0;0m ERROR 10-25 11:19:58 multiproc_worker_utils.py:226]   File \"/home/rog0d/miniconda3/envs/vllm/lib/python3.10/site-packages/vllm/worker/worker.py\", line 166, in init_device\n",
      "\u001b[1;36m(VllmWorkerProcess pid=2214618)\u001b[0;0m ERROR 10-25 11:19:58 multiproc_worker_utils.py:226]     torch.cuda.set_device(self.device)\n",
      "\u001b[1;36m(VllmWorkerProcess pid=2214618)\u001b[0;0m ERROR 10-25 11:19:58 multiproc_worker_utils.py:226]   File \"/home/rog0d/miniconda3/envs/vllm/lib/python3.10/site-packages/torch/cuda/__init__.py\", line 420, in set_device\n",
      "\u001b[1;36m(VllmWorkerProcess pid=2214618)\u001b[0;0m ERROR 10-25 11:19:58 multiproc_worker_utils.py:226]     torch._C._cuda_setDevice(device)\n",
      "\u001b[1;36m(VllmWorkerProcess pid=2214618)\u001b[0;0m ERROR 10-25 11:19:58 multiproc_worker_utils.py:226]   File \"/home/rog0d/miniconda3/envs/vllm/lib/python3.10/site-packages/torch/cuda/__init__.py\", line 300, in _lazy_init\n",
      "\u001b[1;36m(VllmWorkerProcess pid=2214618)\u001b[0;0m ERROR 10-25 11:19:58 multiproc_worker_utils.py:226]     raise RuntimeError(\n",
      "\u001b[1;36m(VllmWorkerProcess pid=2214618)\u001b[0;0m ERROR 10-25 11:19:58 multiproc_worker_utils.py:226] RuntimeError: Cannot re-initialize CUDA in forked subprocess. To use CUDA with multiprocessing, you must use the 'spawn' start method\n",
      "\u001b[1;36m(VllmWorkerProcess pid=2214618)\u001b[0;0m ERROR 10-25 11:19:58 multiproc_worker_utils.py:226] \n"
     ]
    }
   ],
   "source": [
    "# Model loading\n",
    "load_dotenv()\n",
    "\n",
    "# llama-3-70 quantized\n",
    "llm = LLM(MODEL, gpu_memory_utilization=1, tensor_parallel_size=8, enforce_eager=False, dtype=\"half\") \n"
   ]
  },
  {
   "cell_type": "code",
   "execution_count": 6,
   "metadata": {},
   "outputs": [
    {
     "name": "stdout",
     "output_type": "stream",
     "text": [
      "rog0d: First step -> Exclusive guided decodings\n",
      "rog0d: Second step -> validate and add request\n",
      "rog0d: third step-> Decoding backend\n",
      "rog0d: fourth step-> outlines backend\n",
      "rog0d: fifth step-> outlines operation\n",
      "rog0d: sixth step-> check outlines guiding options\n",
      "rog0d: seventh step-> CFGLogitsProcessor class: CFGuide to BaseLogitsProcessor\n",
      "rog0d: ninth step-> _init_ CFGGuide\n",
      "rog0d: ninth step-> _init_ CFGGuide\n"
     ]
    },
    {
     "name": "stderr",
     "output_type": "stream",
     "text": [
      "Processed prompts:   0%|          | 0/1 [00:00<?, ?it/s, est. speed input: 0.00 toks/s, output: 0.00 toks/s]"
     ]
    },
    {
     "name": "stdout",
     "output_type": "stream",
     "text": [
      "rog0d: eighth step-> _call_ BaseLogitsProcessor\n"
     ]
    },
    {
     "name": "stderr",
     "output_type": "stream",
     "text": [
      "Compiling FSM index for all state transitions: 100%|██████████| 8/8 [00:00<00:00, 13.40it/s]\n"
     ]
    },
    {
     "name": "stdout",
     "output_type": "stream",
     "text": [
      "rog0d: eighth step-> _call_ BaseLogitsProcessor\n"
     ]
    },
    {
     "name": "stderr",
     "output_type": "stream",
     "text": [
      "Compiling FSM index for all state transitions: 100%|██████████| 12/12 [00:00<00:00, 20.21it/s]\n"
     ]
    },
    {
     "name": "stdout",
     "output_type": "stream",
     "text": [
      "rog0d: eighth step-> _call_ BaseLogitsProcessor\n",
      "rog0d: eighth step-> _call_ BaseLogitsProcessor\n",
      "rog0d: eighth step-> _call_ BaseLogitsProcessor\n",
      "rog0d: eighth step-> _call_ BaseLogitsProcessor\n",
      "rog0d: eighth step-> _call_ BaseLogitsProcessor\n",
      "rog0d: eighth step-> _call_ BaseLogitsProcessor\n",
      "rog0d: eighth step-> _call_ BaseLogitsProcessor\n",
      "rog0d: eighth step-> _call_ BaseLogitsProcessor\n",
      "rog0d: eighth step-> _call_ BaseLogitsProcessor\n",
      "rog0d: eighth step-> _call_ BaseLogitsProcessor\n",
      "rog0d: eighth step-> _call_ BaseLogitsProcessor\n",
      "rog0d: eighth step-> _call_ BaseLogitsProcessor\n",
      "rog0d: eighth step-> _call_ BaseLogitsProcessor\n",
      "rog0d: eighth step-> _call_ BaseLogitsProcessor\n",
      "rog0d: eighth step-> _call_ BaseLogitsProcessor\n",
      "rog0d: eighth step-> _call_ BaseLogitsProcessor\n",
      "rog0d: eighth step-> _call_ BaseLogitsProcessor\n",
      "rog0d: eighth step-> _call_ BaseLogitsProcessor\n",
      "rog0d: eighth step-> _call_ BaseLogitsProcessor\n",
      "rog0d: eighth step-> _call_ BaseLogitsProcessor\n",
      "rog0d: eighth step-> _call_ BaseLogitsProcessor\n",
      "rog0d: eighth step-> _call_ BaseLogitsProcessor\n",
      "rog0d: eighth step-> _call_ BaseLogitsProcessor\n",
      "rog0d: eighth step-> _call_ BaseLogitsProcessor\n",
      "rog0d: eighth step-> _call_ BaseLogitsProcessor\n",
      "rog0d: eighth step-> _call_ BaseLogitsProcessor\n",
      "rog0d: eighth step-> _call_ BaseLogitsProcessor\n",
      "rog0d: eighth step-> _call_ BaseLogitsProcessor\n",
      "rog0d: eighth step-> _call_ BaseLogitsProcessor\n",
      "rog0d: eighth step-> _call_ BaseLogitsProcessor\n",
      "rog0d: eighth step-> _call_ BaseLogitsProcessor\n",
      "rog0d: eighth step-> _call_ BaseLogitsProcessor\n",
      "rog0d: eighth step-> _call_ BaseLogitsProcessor\n",
      "rog0d: eighth step-> _call_ BaseLogitsProcessor\n",
      "rog0d: eighth step-> _call_ BaseLogitsProcessor\n",
      "rog0d: eighth step-> _call_ BaseLogitsProcessor\n",
      "rog0d: eighth step-> _call_ BaseLogitsProcessor\n",
      "rog0d: eighth step-> _call_ BaseLogitsProcessor\n",
      "rog0d: eighth step-> _call_ BaseLogitsProcessor\n",
      "rog0d: eighth step-> _call_ BaseLogitsProcessor\n",
      "rog0d: eighth step-> _call_ BaseLogitsProcessor\n",
      "rog0d: eighth step-> _call_ BaseLogitsProcessor\n",
      "rog0d: eighth step-> _call_ BaseLogitsProcessor\n",
      "rog0d: eighth step-> _call_ BaseLogitsProcessor\n",
      "rog0d: eighth step-> _call_ BaseLogitsProcessor\n",
      "rog0d: eighth step-> _call_ BaseLogitsProcessor\n",
      "rog0d: eighth step-> _call_ BaseLogitsProcessor\n",
      "rog0d: eighth step-> _call_ BaseLogitsProcessor\n",
      "rog0d: eighth step-> _call_ BaseLogitsProcessor\n",
      "rog0d: eighth step-> _call_ BaseLogitsProcessor\n",
      "rog0d: eighth step-> _call_ BaseLogitsProcessor\n",
      "rog0d: eighth step-> _call_ BaseLogitsProcessor\n",
      "rog0d: eighth step-> _call_ BaseLogitsProcessor\n"
     ]
    },
    {
     "name": "stderr",
     "output_type": "stream",
     "text": [
      "Compiling FSM index for all state transitions: 100%|██████████| 2/2 [00:00<00:00,  7.17it/s]\n",
      "Processed prompts: 100%|██████████| 1/1 [00:18<00:00, 18.94s/it, est. speed input: 7.02 toks/s, output: 2.90 toks/s]\n"
     ]
    },
    {
     "name": "stdout",
     "output_type": "stream",
     "text": [
      "Elapsed time for generation nº0: 20.389550366904587 seconds\n",
      "rog0d: First step -> Exclusive guided decodings\n",
      "rog0d: Second step -> validate and add request\n",
      "rog0d: third step-> Decoding backend\n",
      "rog0d: fourth step-> outlines backend\n",
      "rog0d: fifth step-> outlines operation\n",
      "rog0d: sixth step-> check outlines guiding options\n",
      "rog0d: seventh step-> CFGLogitsProcessor class: CFGuide to BaseLogitsProcessor\n",
      "rog0d: ninth step-> _init_ CFGGuide\n"
     ]
    },
    {
     "name": "stderr",
     "output_type": "stream",
     "text": [
      "Processed prompts:   0%|          | 0/1 [00:00<?, ?it/s, est. speed input: 0.00 toks/s, output: 0.00 toks/s]"
     ]
    },
    {
     "name": "stdout",
     "output_type": "stream",
     "text": [
      "rog0d: eighth step-> _call_ BaseLogitsProcessor\n"
     ]
    },
    {
     "name": "stderr",
     "output_type": "stream",
     "text": [
      "Compiling FSM index for all state transitions: 100%|██████████| 8/8 [00:00<00:00, 14.23it/s]\n"
     ]
    },
    {
     "name": "stdout",
     "output_type": "stream",
     "text": [
      "rog0d: eighth step-> _call_ BaseLogitsProcessor\n"
     ]
    },
    {
     "name": "stderr",
     "output_type": "stream",
     "text": [
      "Compiling FSM index for all state transitions: 100%|██████████| 12/12 [00:00<00:00, 20.22it/s]\n"
     ]
    },
    {
     "name": "stdout",
     "output_type": "stream",
     "text": [
      "rog0d: eighth step-> _call_ BaseLogitsProcessor\n",
      "rog0d: eighth step-> _call_ BaseLogitsProcessor\n",
      "rog0d: eighth step-> _call_ BaseLogitsProcessor\n",
      "rog0d: eighth step-> _call_ BaseLogitsProcessor\n",
      "rog0d: eighth step-> _call_ BaseLogitsProcessor\n",
      "rog0d: eighth step-> _call_ BaseLogitsProcessor\n",
      "rog0d: eighth step-> _call_ BaseLogitsProcessor\n",
      "rog0d: eighth step-> _call_ BaseLogitsProcessor\n",
      "rog0d: eighth step-> _call_ BaseLogitsProcessor\n",
      "rog0d: eighth step-> _call_ BaseLogitsProcessor\n",
      "rog0d: eighth step-> _call_ BaseLogitsProcessor\n",
      "rog0d: eighth step-> _call_ BaseLogitsProcessor\n",
      "rog0d: eighth step-> _call_ BaseLogitsProcessor\n",
      "rog0d: eighth step-> _call_ BaseLogitsProcessor\n",
      "rog0d: eighth step-> _call_ BaseLogitsProcessor\n",
      "rog0d: eighth step-> _call_ BaseLogitsProcessor\n",
      "rog0d: eighth step-> _call_ BaseLogitsProcessor\n",
      "rog0d: eighth step-> _call_ BaseLogitsProcessor\n",
      "rog0d: eighth step-> _call_ BaseLogitsProcessor\n",
      "rog0d: eighth step-> _call_ BaseLogitsProcessor\n",
      "rog0d: eighth step-> _call_ BaseLogitsProcessor\n",
      "rog0d: eighth step-> _call_ BaseLogitsProcessor\n",
      "rog0d: eighth step-> _call_ BaseLogitsProcessor\n",
      "rog0d: eighth step-> _call_ BaseLogitsProcessor\n",
      "rog0d: eighth step-> _call_ BaseLogitsProcessor\n",
      "rog0d: eighth step-> _call_ BaseLogitsProcessor\n",
      "rog0d: eighth step-> _call_ BaseLogitsProcessor\n",
      "rog0d: eighth step-> _call_ BaseLogitsProcessor\n",
      "rog0d: eighth step-> _call_ BaseLogitsProcessor\n",
      "rog0d: eighth step-> _call_ BaseLogitsProcessor\n",
      "rog0d: eighth step-> _call_ BaseLogitsProcessor\n",
      "rog0d: eighth step-> _call_ BaseLogitsProcessor\n",
      "rog0d: eighth step-> _call_ BaseLogitsProcessor\n",
      "rog0d: eighth step-> _call_ BaseLogitsProcessor\n",
      "rog0d: eighth step-> _call_ BaseLogitsProcessor\n",
      "rog0d: eighth step-> _call_ BaseLogitsProcessor\n",
      "rog0d: eighth step-> _call_ BaseLogitsProcessor\n",
      "rog0d: eighth step-> _call_ BaseLogitsProcessor\n",
      "rog0d: eighth step-> _call_ BaseLogitsProcessor\n",
      "rog0d: eighth step-> _call_ BaseLogitsProcessor\n",
      "rog0d: eighth step-> _call_ BaseLogitsProcessor\n",
      "rog0d: eighth step-> _call_ BaseLogitsProcessor\n",
      "rog0d: eighth step-> _call_ BaseLogitsProcessor\n",
      "rog0d: eighth step-> _call_ BaseLogitsProcessor\n",
      "rog0d: eighth step-> _call_ BaseLogitsProcessor\n",
      "rog0d: eighth step-> _call_ BaseLogitsProcessor\n",
      "rog0d: eighth step-> _call_ BaseLogitsProcessor\n",
      "rog0d: eighth step-> _call_ BaseLogitsProcessor\n",
      "rog0d: eighth step-> _call_ BaseLogitsProcessor\n",
      "rog0d: eighth step-> _call_ BaseLogitsProcessor\n",
      "rog0d: eighth step-> _call_ BaseLogitsProcessor\n",
      "rog0d: eighth step-> _call_ BaseLogitsProcessor\n",
      "rog0d: eighth step-> _call_ BaseLogitsProcessor\n",
      "rog0d: eighth step-> _call_ BaseLogitsProcessor\n",
      "rog0d: eighth step-> _call_ BaseLogitsProcessor\n",
      "rog0d: eighth step-> _call_ BaseLogitsProcessor\n"
     ]
    },
    {
     "name": "stderr",
     "output_type": "stream",
     "text": [
      "Compiling FSM index for all state transitions: 100%|██████████| 2/2 [00:00<00:00,  7.00it/s]\n",
      "Processed prompts: 100%|██████████| 1/1 [00:18<00:00, 18.00s/it, est. speed input: 7.39 toks/s, output: 3.22 toks/s]\n"
     ]
    },
    {
     "name": "stdout",
     "output_type": "stream",
     "text": [
      "Elapsed time for generation nº1: 18.57254038657993 seconds\n",
      "rog0d: First step -> Exclusive guided decodings\n",
      "rog0d: Second step -> validate and add request\n",
      "rog0d: third step-> Decoding backend\n",
      "rog0d: fourth step-> outlines backend\n",
      "rog0d: fifth step-> outlines operation\n",
      "rog0d: sixth step-> check outlines guiding options\n",
      "rog0d: seventh step-> CFGLogitsProcessor class: CFGuide to BaseLogitsProcessor\n",
      "rog0d: ninth step-> _init_ CFGGuide\n",
      "rog0d: ninth step-> _init_ CFGGuide\n"
     ]
    },
    {
     "name": "stderr",
     "output_type": "stream",
     "text": [
      "Processed prompts:   0%|          | 0/1 [00:00<?, ?it/s, est. speed input: 0.00 toks/s, output: 0.00 toks/s]"
     ]
    },
    {
     "name": "stdout",
     "output_type": "stream",
     "text": [
      "rog0d: eighth step-> _call_ BaseLogitsProcessor\n"
     ]
    },
    {
     "name": "stderr",
     "output_type": "stream",
     "text": [
      "Compiling FSM index for all state transitions: 100%|██████████| 8/8 [00:00<00:00, 14.20it/s]\n"
     ]
    },
    {
     "name": "stdout",
     "output_type": "stream",
     "text": [
      "rog0d: eighth step-> _call_ BaseLogitsProcessor\n"
     ]
    },
    {
     "name": "stderr",
     "output_type": "stream",
     "text": [
      "Compiling FSM index for all state transitions: 100%|██████████| 12/12 [00:00<00:00, 20.10it/s]\n"
     ]
    },
    {
     "name": "stdout",
     "output_type": "stream",
     "text": [
      "rog0d: eighth step-> _call_ BaseLogitsProcessor\n",
      "rog0d: eighth step-> _call_ BaseLogitsProcessor\n",
      "rog0d: eighth step-> _call_ BaseLogitsProcessor\n",
      "rog0d: eighth step-> _call_ BaseLogitsProcessor\n",
      "rog0d: eighth step-> _call_ BaseLogitsProcessor\n",
      "rog0d: eighth step-> _call_ BaseLogitsProcessor\n",
      "rog0d: eighth step-> _call_ BaseLogitsProcessor\n",
      "rog0d: eighth step-> _call_ BaseLogitsProcessor\n",
      "rog0d: eighth step-> _call_ BaseLogitsProcessor\n",
      "rog0d: eighth step-> _call_ BaseLogitsProcessor\n",
      "rog0d: eighth step-> _call_ BaseLogitsProcessor\n",
      "rog0d: eighth step-> _call_ BaseLogitsProcessor\n",
      "rog0d: eighth step-> _call_ BaseLogitsProcessor\n",
      "rog0d: eighth step-> _call_ BaseLogitsProcessor\n",
      "rog0d: eighth step-> _call_ BaseLogitsProcessor\n",
      "rog0d: eighth step-> _call_ BaseLogitsProcessor\n",
      "rog0d: eighth step-> _call_ BaseLogitsProcessor\n",
      "rog0d: eighth step-> _call_ BaseLogitsProcessor\n",
      "rog0d: eighth step-> _call_ BaseLogitsProcessor\n",
      "rog0d: eighth step-> _call_ BaseLogitsProcessor\n",
      "rog0d: eighth step-> _call_ BaseLogitsProcessor\n",
      "rog0d: eighth step-> _call_ BaseLogitsProcessor\n",
      "rog0d: eighth step-> _call_ BaseLogitsProcessor\n",
      "rog0d: eighth step-> _call_ BaseLogitsProcessor\n",
      "rog0d: eighth step-> _call_ BaseLogitsProcessor\n",
      "rog0d: eighth step-> _call_ BaseLogitsProcessor\n",
      "rog0d: eighth step-> _call_ BaseLogitsProcessor\n",
      "rog0d: eighth step-> _call_ BaseLogitsProcessor\n",
      "rog0d: eighth step-> _call_ BaseLogitsProcessor\n",
      "rog0d: eighth step-> _call_ BaseLogitsProcessor\n",
      "rog0d: eighth step-> _call_ BaseLogitsProcessor\n",
      "rog0d: eighth step-> _call_ BaseLogitsProcessor\n",
      "rog0d: eighth step-> _call_ BaseLogitsProcessor\n",
      "rog0d: eighth step-> _call_ BaseLogitsProcessor\n",
      "rog0d: eighth step-> _call_ BaseLogitsProcessor\n",
      "rog0d: eighth step-> _call_ BaseLogitsProcessor\n",
      "rog0d: eighth step-> _call_ BaseLogitsProcessor\n",
      "rog0d: eighth step-> _call_ BaseLogitsProcessor\n",
      "rog0d: eighth step-> _call_ BaseLogitsProcessor\n",
      "rog0d: eighth step-> _call_ BaseLogitsProcessor\n",
      "rog0d: eighth step-> _call_ BaseLogitsProcessor\n",
      "rog0d: eighth step-> _call_ BaseLogitsProcessor\n",
      "rog0d: eighth step-> _call_ BaseLogitsProcessor\n",
      "rog0d: eighth step-> _call_ BaseLogitsProcessor\n",
      "rog0d: eighth step-> _call_ BaseLogitsProcessor\n",
      "rog0d: eighth step-> _call_ BaseLogitsProcessor\n",
      "rog0d: eighth step-> _call_ BaseLogitsProcessor\n",
      "rog0d: eighth step-> _call_ BaseLogitsProcessor\n",
      "rog0d: eighth step-> _call_ BaseLogitsProcessor\n",
      "rog0d: eighth step-> _call_ BaseLogitsProcessor\n",
      "rog0d: eighth step-> _call_ BaseLogitsProcessor\n",
      "rog0d: eighth step-> _call_ BaseLogitsProcessor\n",
      "rog0d: eighth step-> _call_ BaseLogitsProcessor\n",
      "rog0d: eighth step-> _call_ BaseLogitsProcessor\n",
      "rog0d: eighth step-> _call_ BaseLogitsProcessor\n",
      "rog0d: eighth step-> _call_ BaseLogitsProcessor\n",
      "rog0d: eighth step-> _call_ BaseLogitsProcessor\n",
      "rog0d: eighth step-> _call_ BaseLogitsProcessor\n",
      "rog0d: eighth step-> _call_ BaseLogitsProcessor\n",
      "rog0d: eighth step-> _call_ BaseLogitsProcessor\n"
     ]
    },
    {
     "name": "stderr",
     "output_type": "stream",
     "text": [
      "Compiling FSM index for all state transitions: 100%|██████████| 2/2 [00:00<00:00,  7.08it/s]\n",
      "Processed prompts: 100%|██████████| 1/1 [00:12<00:00, 12.81s/it, est. speed input: 10.38 toks/s, output: 4.84 toks/s]\n"
     ]
    },
    {
     "name": "stdout",
     "output_type": "stream",
     "text": [
      "Elapsed time for generation nº2: 13.526398505084217 seconds\n",
      "rog0d: First step -> Exclusive guided decodings\n",
      "rog0d: Second step -> validate and add request\n",
      "rog0d: third step-> Decoding backend\n",
      "rog0d: fourth step-> outlines backend\n",
      "rog0d: fifth step-> outlines operation\n",
      "rog0d: sixth step-> check outlines guiding options\n",
      "rog0d: seventh step-> CFGLogitsProcessor class: CFGuide to BaseLogitsProcessor\n",
      "rog0d: ninth step-> _init_ CFGGuide\n"
     ]
    },
    {
     "name": "stderr",
     "output_type": "stream",
     "text": [
      "Processed prompts:   0%|          | 0/1 [00:00<?, ?it/s, est. speed input: 0.00 toks/s, output: 0.00 toks/s]"
     ]
    },
    {
     "name": "stdout",
     "output_type": "stream",
     "text": [
      "rog0d: eighth step-> _call_ BaseLogitsProcessor\n"
     ]
    },
    {
     "name": "stderr",
     "output_type": "stream",
     "text": [
      "Compiling FSM index for all state transitions: 100%|██████████| 8/8 [00:00<00:00, 14.22it/s]\n"
     ]
    },
    {
     "name": "stdout",
     "output_type": "stream",
     "text": [
      "rog0d: eighth step-> _call_ BaseLogitsProcessor\n"
     ]
    },
    {
     "name": "stderr",
     "output_type": "stream",
     "text": [
      "Compiling FSM index for all state transitions: 100%|██████████| 12/12 [00:00<00:00, 20.27it/s]\n"
     ]
    },
    {
     "name": "stdout",
     "output_type": "stream",
     "text": [
      "rog0d: eighth step-> _call_ BaseLogitsProcessor\n",
      "rog0d: eighth step-> _call_ BaseLogitsProcessor\n",
      "rog0d: eighth step-> _call_ BaseLogitsProcessor\n",
      "rog0d: eighth step-> _call_ BaseLogitsProcessor\n",
      "rog0d: eighth step-> _call_ BaseLogitsProcessor\n",
      "rog0d: eighth step-> _call_ BaseLogitsProcessor\n",
      "rog0d: eighth step-> _call_ BaseLogitsProcessor\n",
      "rog0d: eighth step-> _call_ BaseLogitsProcessor\n",
      "rog0d: eighth step-> _call_ BaseLogitsProcessor\n",
      "rog0d: eighth step-> _call_ BaseLogitsProcessor\n",
      "rog0d: eighth step-> _call_ BaseLogitsProcessor\n",
      "rog0d: eighth step-> _call_ BaseLogitsProcessor\n",
      "rog0d: eighth step-> _call_ BaseLogitsProcessor\n",
      "rog0d: eighth step-> _call_ BaseLogitsProcessor\n",
      "rog0d: eighth step-> _call_ BaseLogitsProcessor\n",
      "rog0d: eighth step-> _call_ BaseLogitsProcessor\n",
      "rog0d: eighth step-> _call_ BaseLogitsProcessor\n",
      "rog0d: eighth step-> _call_ BaseLogitsProcessor\n",
      "rog0d: eighth step-> _call_ BaseLogitsProcessor\n",
      "rog0d: eighth step-> _call_ BaseLogitsProcessor\n",
      "rog0d: eighth step-> _call_ BaseLogitsProcessor\n",
      "rog0d: eighth step-> _call_ BaseLogitsProcessor\n",
      "rog0d: eighth step-> _call_ BaseLogitsProcessor\n",
      "rog0d: eighth step-> _call_ BaseLogitsProcessor\n",
      "rog0d: eighth step-> _call_ BaseLogitsProcessor\n",
      "rog0d: eighth step-> _call_ BaseLogitsProcessor\n",
      "rog0d: eighth step-> _call_ BaseLogitsProcessor\n",
      "rog0d: eighth step-> _call_ BaseLogitsProcessor\n",
      "rog0d: eighth step-> _call_ BaseLogitsProcessor\n",
      "rog0d: eighth step-> _call_ BaseLogitsProcessor\n",
      "rog0d: eighth step-> _call_ BaseLogitsProcessor\n",
      "rog0d: eighth step-> _call_ BaseLogitsProcessor\n",
      "rog0d: eighth step-> _call_ BaseLogitsProcessor\n",
      "rog0d: eighth step-> _call_ BaseLogitsProcessor\n",
      "rog0d: eighth step-> _call_ BaseLogitsProcessor\n",
      "rog0d: eighth step-> _call_ BaseLogitsProcessor\n",
      "rog0d: eighth step-> _call_ BaseLogitsProcessor\n",
      "rog0d: eighth step-> _call_ BaseLogitsProcessor\n",
      "rog0d: eighth step-> _call_ BaseLogitsProcessor\n",
      "rog0d: eighth step-> _call_ BaseLogitsProcessor\n",
      "rog0d: eighth step-> _call_ BaseLogitsProcessor\n",
      "rog0d: eighth step-> _call_ BaseLogitsProcessor\n",
      "rog0d: eighth step-> _call_ BaseLogitsProcessor\n",
      "rog0d: eighth step-> _call_ BaseLogitsProcessor\n",
      "rog0d: eighth step-> _call_ BaseLogitsProcessor\n",
      "rog0d: eighth step-> _call_ BaseLogitsProcessor\n",
      "rog0d: eighth step-> _call_ BaseLogitsProcessor\n",
      "rog0d: eighth step-> _call_ BaseLogitsProcessor\n"
     ]
    },
    {
     "name": "stderr",
     "output_type": "stream",
     "text": [
      "Compiling FSM index for all state transitions: 100%|██████████| 2/2 [00:00<00:00,  6.80it/s]\n"
     ]
    },
    {
     "name": "stdout",
     "output_type": "stream",
     "text": [
      "rog0d: eighth step-> _call_ BaseLogitsProcessor\n",
      "rog0d: eighth step-> _call_ BaseLogitsProcessor\n",
      "rog0d: eighth step-> _call_ BaseLogitsProcessor\n",
      "rog0d: eighth step-> _call_ BaseLogitsProcessor\n",
      "rog0d: eighth step-> _call_ BaseLogitsProcessor\n",
      "rog0d: eighth step-> _call_ BaseLogitsProcessor\n",
      "rog0d: eighth step-> _call_ BaseLogitsProcessor\n",
      "rog0d: eighth step-> _call_ BaseLogitsProcessor\n",
      "rog0d: eighth step-> _call_ BaseLogitsProcessor\n",
      "rog0d: eighth step-> _call_ BaseLogitsProcessor\n",
      "rog0d: eighth step-> _call_ BaseLogitsProcessor\n",
      "rog0d: eighth step-> _call_ BaseLogitsProcessor\n",
      "rog0d: eighth step-> _call_ BaseLogitsProcessor\n",
      "rog0d: eighth step-> _call_ BaseLogitsProcessor\n",
      "rog0d: eighth step-> _call_ BaseLogitsProcessor\n",
      "rog0d: eighth step-> _call_ BaseLogitsProcessor\n",
      "rog0d: eighth step-> _call_ BaseLogitsProcessor\n",
      "rog0d: eighth step-> _call_ BaseLogitsProcessor\n",
      "rog0d: eighth step-> _call_ BaseLogitsProcessor\n",
      "rog0d: eighth step-> _call_ BaseLogitsProcessor\n",
      "rog0d: eighth step-> _call_ BaseLogitsProcessor\n",
      "rog0d: eighth step-> _call_ BaseLogitsProcessor\n",
      "rog0d: eighth step-> _call_ BaseLogitsProcessor\n",
      "rog0d: eighth step-> _call_ BaseLogitsProcessor\n",
      "rog0d: eighth step-> _call_ BaseLogitsProcessor\n",
      "rog0d: eighth step-> _call_ BaseLogitsProcessor\n",
      "rog0d: eighth step-> _call_ BaseLogitsProcessor\n",
      "rog0d: eighth step-> _call_ BaseLogitsProcessor\n",
      "rog0d: eighth step-> _call_ BaseLogitsProcessor\n",
      "rog0d: eighth step-> _call_ BaseLogitsProcessor\n",
      "rog0d: eighth step-> _call_ BaseLogitsProcessor\n",
      "rog0d: eighth step-> _call_ BaseLogitsProcessor\n",
      "rog0d: eighth step-> _call_ BaseLogitsProcessor\n",
      "rog0d: eighth step-> _call_ BaseLogitsProcessor\n",
      "rog0d: eighth step-> _call_ BaseLogitsProcessor\n",
      "rog0d: eighth step-> _call_ BaseLogitsProcessor\n",
      "rog0d: eighth step-> _call_ BaseLogitsProcessor\n",
      "rog0d: eighth step-> _call_ BaseLogitsProcessor\n",
      "rog0d: eighth step-> _call_ BaseLogitsProcessor\n",
      "rog0d: eighth step-> _call_ BaseLogitsProcessor\n",
      "rog0d: eighth step-> _call_ BaseLogitsProcessor\n",
      "rog0d: eighth step-> _call_ BaseLogitsProcessor\n",
      "rog0d: eighth step-> _call_ BaseLogitsProcessor\n",
      "rog0d: eighth step-> _call_ BaseLogitsProcessor\n",
      "rog0d: eighth step-> _call_ BaseLogitsProcessor\n",
      "rog0d: eighth step-> _call_ BaseLogitsProcessor\n",
      "rog0d: eighth step-> _call_ BaseLogitsProcessor\n",
      "rog0d: eighth step-> _call_ BaseLogitsProcessor\n",
      "rog0d: eighth step-> _call_ BaseLogitsProcessor\n"
     ]
    },
    {
     "name": "stderr",
     "output_type": "stream",
     "text": [
      "Processed prompts: 100%|██████████| 1/1 [00:26<00:00, 26.59s/it, est. speed input: 5.00 toks/s, output: 3.76 toks/s]"
     ]
    },
    {
     "name": "stdout",
     "output_type": "stream",
     "text": [
      "rog0d: eighth step-> _call_ BaseLogitsProcessor\n",
      "Elapsed time for generation nº3: 27.146677513141185 seconds\n",
      "rog0d: First step -> Exclusive guided decodings\n",
      "rog0d: Second step -> validate and add request\n",
      "rog0d: third step-> Decoding backend\n",
      "rog0d: fourth step-> outlines backend\n",
      "rog0d: fifth step-> outlines operation\n",
      "rog0d: sixth step-> check outlines guiding options\n",
      "rog0d: seventh step-> CFGLogitsProcessor class: CFGuide to BaseLogitsProcessor\n"
     ]
    },
    {
     "name": "stderr",
     "output_type": "stream",
     "text": [
      "\n"
     ]
    },
    {
     "name": "stdout",
     "output_type": "stream",
     "text": [
      "rog0d: ninth step-> _init_ CFGGuide\n"
     ]
    },
    {
     "name": "stderr",
     "output_type": "stream",
     "text": [
      "Processed prompts:   0%|          | 0/1 [00:00<?, ?it/s, est. speed input: 0.00 toks/s, output: 0.00 toks/s]"
     ]
    },
    {
     "name": "stdout",
     "output_type": "stream",
     "text": [
      "rog0d: eighth step-> _call_ BaseLogitsProcessor\n",
      "rog0d: eighth step-> _call_ BaseLogitsProcessor\n",
      "rog0d: eighth step-> _call_ BaseLogitsProcessor\n",
      "rog0d: eighth step-> _call_ BaseLogitsProcessor\n",
      "rog0d: eighth step-> _call_ BaseLogitsProcessor\n",
      "rog0d: eighth step-> _call_ BaseLogitsProcessor\n",
      "rog0d: eighth step-> _call_ BaseLogitsProcessor\n",
      "rog0d: eighth step-> _call_ BaseLogitsProcessor\n",
      "rog0d: eighth step-> _call_ BaseLogitsProcessor\n",
      "rog0d: eighth step-> _call_ BaseLogitsProcessor\n",
      "rog0d: eighth step-> _call_ BaseLogitsProcessor\n",
      "rog0d: eighth step-> _call_ BaseLogitsProcessor\n",
      "rog0d: eighth step-> _call_ BaseLogitsProcessor\n",
      "rog0d: eighth step-> _call_ BaseLogitsProcessor\n",
      "rog0d: eighth step-> _call_ BaseLogitsProcessor\n",
      "rog0d: eighth step-> _call_ BaseLogitsProcessor\n",
      "rog0d: eighth step-> _call_ BaseLogitsProcessor\n",
      "rog0d: eighth step-> _call_ BaseLogitsProcessor\n",
      "rog0d: eighth step-> _call_ BaseLogitsProcessor\n",
      "rog0d: eighth step-> _call_ BaseLogitsProcessor\n",
      "rog0d: eighth step-> _call_ BaseLogitsProcessor\n",
      "rog0d: eighth step-> _call_ BaseLogitsProcessor\n",
      "rog0d: eighth step-> _call_ BaseLogitsProcessor\n",
      "rog0d: eighth step-> _call_ BaseLogitsProcessor\n",
      "rog0d: eighth step-> _call_ BaseLogitsProcessor\n",
      "rog0d: eighth step-> _call_ BaseLogitsProcessor\n",
      "rog0d: eighth step-> _call_ BaseLogitsProcessor\n",
      "rog0d: eighth step-> _call_ BaseLogitsProcessor\n",
      "rog0d: eighth step-> _call_ BaseLogitsProcessor\n",
      "rog0d: eighth step-> _call_ BaseLogitsProcessor\n",
      "rog0d: eighth step-> _call_ BaseLogitsProcessor\n",
      "rog0d: eighth step-> _call_ BaseLogitsProcessor\n",
      "rog0d: eighth step-> _call_ BaseLogitsProcessor\n",
      "rog0d: eighth step-> _call_ BaseLogitsProcessor\n",
      "rog0d: eighth step-> _call_ BaseLogitsProcessor\n",
      "rog0d: eighth step-> _call_ BaseLogitsProcessor\n",
      "rog0d: eighth step-> _call_ BaseLogitsProcessor\n",
      "rog0d: eighth step-> _call_ BaseLogitsProcessor\n",
      "rog0d: eighth step-> _call_ BaseLogitsProcessor\n",
      "rog0d: eighth step-> _call_ BaseLogitsProcessor\n",
      "rog0d: eighth step-> _call_ BaseLogitsProcessor\n",
      "rog0d: eighth step-> _call_ BaseLogitsProcessor\n",
      "rog0d: eighth step-> _call_ BaseLogitsProcessor\n",
      "rog0d: eighth step-> _call_ BaseLogitsProcessor\n",
      "rog0d: eighth step-> _call_ BaseLogitsProcessor\n",
      "rog0d: eighth step-> _call_ BaseLogitsProcessor\n",
      "rog0d: eighth step-> _call_ BaseLogitsProcessor\n",
      "rog0d: eighth step-> _call_ BaseLogitsProcessor\n",
      "rog0d: eighth step-> _call_ BaseLogitsProcessor\n",
      "rog0d: eighth step-> _call_ BaseLogitsProcessor\n",
      "rog0d: eighth step-> _call_ BaseLogitsProcessor\n",
      "rog0d: eighth step-> _call_ BaseLogitsProcessor\n",
      "rog0d: eighth step-> _call_ BaseLogitsProcessor\n",
      "rog0d: eighth step-> _call_ BaseLogitsProcessor\n",
      "rog0d: eighth step-> _call_ BaseLogitsProcessor\n",
      "rog0d: eighth step-> _call_ BaseLogitsProcessor\n",
      "rog0d: eighth step-> _call_ BaseLogitsProcessor\n",
      "rog0d: eighth step-> _call_ BaseLogitsProcessor\n"
     ]
    },
    {
     "name": "stderr",
     "output_type": "stream",
     "text": [
      "Processed prompts: 100%|██████████| 1/1 [00:09<00:00,  9.97s/it, est. speed input: 13.35 toks/s, output: 5.92 toks/s]"
     ]
    },
    {
     "name": "stdout",
     "output_type": "stream",
     "text": [
      "rog0d: eighth step-> _call_ BaseLogitsProcessor\n",
      "Elapsed time for generation nº4: 10.508775134105235 seconds\n",
      "rog0d: First step -> Exclusive guided decodings\n",
      "rog0d: Second step -> validate and add request\n",
      "rog0d: third step-> Decoding backend\n",
      "rog0d: fourth step-> outlines backend\n",
      "rog0d: fifth step-> outlines operation\n",
      "rog0d: sixth step-> check outlines guiding options\n",
      "rog0d: seventh step-> CFGLogitsProcessor class: CFGuide to BaseLogitsProcessor\n"
     ]
    },
    {
     "name": "stderr",
     "output_type": "stream",
     "text": [
      "\n"
     ]
    },
    {
     "name": "stdout",
     "output_type": "stream",
     "text": [
      "rog0d: ninth step-> _init_ CFGGuide\n"
     ]
    },
    {
     "name": "stderr",
     "output_type": "stream",
     "text": [
      "Processed prompts:   0%|          | 0/1 [00:00<?, ?it/s, est. speed input: 0.00 toks/s, output: 0.00 toks/s]"
     ]
    },
    {
     "name": "stdout",
     "output_type": "stream",
     "text": [
      "rog0d: eighth step-> _call_ BaseLogitsProcessor\n",
      "rog0d: eighth step-> _call_ BaseLogitsProcessor\n",
      "rog0d: eighth step-> _call_ BaseLogitsProcessor\n",
      "rog0d: eighth step-> _call_ BaseLogitsProcessor\n",
      "rog0d: eighth step-> _call_ BaseLogitsProcessor\n",
      "rog0d: eighth step-> _call_ BaseLogitsProcessor\n",
      "rog0d: eighth step-> _call_ BaseLogitsProcessor\n",
      "rog0d: eighth step-> _call_ BaseLogitsProcessor\n",
      "rog0d: eighth step-> _call_ BaseLogitsProcessor\n",
      "rog0d: eighth step-> _call_ BaseLogitsProcessor\n",
      "rog0d: eighth step-> _call_ BaseLogitsProcessor\n",
      "rog0d: eighth step-> _call_ BaseLogitsProcessor\n",
      "rog0d: eighth step-> _call_ BaseLogitsProcessor\n",
      "rog0d: eighth step-> _call_ BaseLogitsProcessor\n",
      "rog0d: eighth step-> _call_ BaseLogitsProcessor\n",
      "rog0d: eighth step-> _call_ BaseLogitsProcessor\n",
      "rog0d: eighth step-> _call_ BaseLogitsProcessor\n",
      "rog0d: eighth step-> _call_ BaseLogitsProcessor\n",
      "rog0d: eighth step-> _call_ BaseLogitsProcessor\n",
      "rog0d: eighth step-> _call_ BaseLogitsProcessor\n",
      "rog0d: eighth step-> _call_ BaseLogitsProcessor\n",
      "rog0d: eighth step-> _call_ BaseLogitsProcessor\n",
      "rog0d: eighth step-> _call_ BaseLogitsProcessor\n",
      "rog0d: eighth step-> _call_ BaseLogitsProcessor\n",
      "rog0d: eighth step-> _call_ BaseLogitsProcessor\n",
      "rog0d: eighth step-> _call_ BaseLogitsProcessor\n",
      "rog0d: eighth step-> _call_ BaseLogitsProcessor\n",
      "rog0d: eighth step-> _call_ BaseLogitsProcessor\n",
      "rog0d: eighth step-> _call_ BaseLogitsProcessor\n",
      "rog0d: eighth step-> _call_ BaseLogitsProcessor\n",
      "rog0d: eighth step-> _call_ BaseLogitsProcessor\n",
      "rog0d: eighth step-> _call_ BaseLogitsProcessor\n",
      "rog0d: eighth step-> _call_ BaseLogitsProcessor\n",
      "rog0d: eighth step-> _call_ BaseLogitsProcessor\n",
      "rog0d: eighth step-> _call_ BaseLogitsProcessor\n",
      "rog0d: eighth step-> _call_ BaseLogitsProcessor\n",
      "rog0d: eighth step-> _call_ BaseLogitsProcessor\n",
      "rog0d: eighth step-> _call_ BaseLogitsProcessor\n",
      "rog0d: eighth step-> _call_ BaseLogitsProcessor\n",
      "rog0d: eighth step-> _call_ BaseLogitsProcessor\n",
      "rog0d: eighth step-> _call_ BaseLogitsProcessor\n",
      "rog0d: eighth step-> _call_ BaseLogitsProcessor\n",
      "rog0d: eighth step-> _call_ BaseLogitsProcessor\n",
      "rog0d: eighth step-> _call_ BaseLogitsProcessor\n",
      "rog0d: eighth step-> _call_ BaseLogitsProcessor\n",
      "rog0d: eighth step-> _call_ BaseLogitsProcessor\n",
      "rog0d: eighth step-> _call_ BaseLogitsProcessor\n",
      "rog0d: eighth step-> _call_ BaseLogitsProcessor\n",
      "rog0d: eighth step-> _call_ BaseLogitsProcessor\n",
      "rog0d: eighth step-> _call_ BaseLogitsProcessor\n",
      "rog0d: eighth step-> _call_ BaseLogitsProcessor\n",
      "rog0d: eighth step-> _call_ BaseLogitsProcessor\n",
      "rog0d: eighth step-> _call_ BaseLogitsProcessor\n",
      "rog0d: eighth step-> _call_ BaseLogitsProcessor\n",
      "rog0d: eighth step-> _call_ BaseLogitsProcessor\n",
      "rog0d: eighth step-> _call_ BaseLogitsProcessor\n",
      "rog0d: eighth step-> _call_ BaseLogitsProcessor\n",
      "rog0d: eighth step-> _call_ BaseLogitsProcessor\n",
      "rog0d: eighth step-> _call_ BaseLogitsProcessor\n",
      "rog0d: eighth step-> _call_ BaseLogitsProcessor\n",
      "rog0d: eighth step-> _call_ BaseLogitsProcessor\n",
      "rog0d: eighth step-> _call_ BaseLogitsProcessor\n",
      "rog0d: eighth step-> _call_ BaseLogitsProcessor\n",
      "rog0d: eighth step-> _call_ BaseLogitsProcessor\n",
      "rog0d: eighth step-> _call_ BaseLogitsProcessor\n",
      "rog0d: eighth step-> _call_ BaseLogitsProcessor\n",
      "rog0d: eighth step-> _call_ BaseLogitsProcessor\n",
      "rog0d: eighth step-> _call_ BaseLogitsProcessor\n"
     ]
    },
    {
     "name": "stderr",
     "output_type": "stream",
     "text": [
      "Processed prompts: 100%|██████████| 1/1 [00:12<00:00, 12.10s/it, est. speed input: 11.00 toks/s, output: 5.62 toks/s]\n"
     ]
    },
    {
     "name": "stdout",
     "output_type": "stream",
     "text": [
      "Elapsed time for generation nº5: 12.643198764882982 seconds\n",
      "rog0d: First step -> Exclusive guided decodings\n",
      "rog0d: Second step -> validate and add request\n",
      "rog0d: third step-> Decoding backend\n",
      "rog0d: fourth step-> outlines backend\n",
      "rog0d: fifth step-> outlines operation\n",
      "rog0d: sixth step-> check outlines guiding options\n",
      "rog0d: seventh step-> CFGLogitsProcessor class: CFGuide to BaseLogitsProcessor\n",
      "rog0d: ninth step-> _init_ CFGGuide\n"
     ]
    },
    {
     "name": "stderr",
     "output_type": "stream",
     "text": [
      "Processed prompts:   0%|          | 0/1 [00:00<?, ?it/s, est. speed input: 0.00 toks/s, output: 0.00 toks/s]"
     ]
    },
    {
     "name": "stdout",
     "output_type": "stream",
     "text": [
      "rog0d: eighth step-> _call_ BaseLogitsProcessor\n",
      "rog0d: eighth step-> _call_ BaseLogitsProcessor\n",
      "rog0d: eighth step-> _call_ BaseLogitsProcessor\n",
      "rog0d: eighth step-> _call_ BaseLogitsProcessor\n",
      "rog0d: eighth step-> _call_ BaseLogitsProcessor\n",
      "rog0d: eighth step-> _call_ BaseLogitsProcessor\n",
      "rog0d: eighth step-> _call_ BaseLogitsProcessor\n",
      "rog0d: eighth step-> _call_ BaseLogitsProcessor\n",
      "rog0d: eighth step-> _call_ BaseLogitsProcessor\n",
      "rog0d: eighth step-> _call_ BaseLogitsProcessor\n",
      "rog0d: eighth step-> _call_ BaseLogitsProcessor\n",
      "rog0d: eighth step-> _call_ BaseLogitsProcessor\n",
      "rog0d: eighth step-> _call_ BaseLogitsProcessor\n",
      "rog0d: eighth step-> _call_ BaseLogitsProcessor\n",
      "rog0d: eighth step-> _call_ BaseLogitsProcessor\n",
      "rog0d: eighth step-> _call_ BaseLogitsProcessor\n",
      "rog0d: eighth step-> _call_ BaseLogitsProcessor\n",
      "rog0d: eighth step-> _call_ BaseLogitsProcessor\n",
      "rog0d: eighth step-> _call_ BaseLogitsProcessor\n",
      "rog0d: eighth step-> _call_ BaseLogitsProcessor\n",
      "rog0d: eighth step-> _call_ BaseLogitsProcessor\n",
      "rog0d: eighth step-> _call_ BaseLogitsProcessor\n",
      "rog0d: eighth step-> _call_ BaseLogitsProcessor\n",
      "rog0d: eighth step-> _call_ BaseLogitsProcessor\n",
      "rog0d: eighth step-> _call_ BaseLogitsProcessor\n",
      "rog0d: eighth step-> _call_ BaseLogitsProcessor\n",
      "rog0d: eighth step-> _call_ BaseLogitsProcessor\n",
      "rog0d: eighth step-> _call_ BaseLogitsProcessor\n",
      "rog0d: eighth step-> _call_ BaseLogitsProcessor\n",
      "rog0d: eighth step-> _call_ BaseLogitsProcessor\n",
      "rog0d: eighth step-> _call_ BaseLogitsProcessor\n",
      "rog0d: eighth step-> _call_ BaseLogitsProcessor\n",
      "rog0d: eighth step-> _call_ BaseLogitsProcessor\n",
      "rog0d: eighth step-> _call_ BaseLogitsProcessor\n",
      "rog0d: eighth step-> _call_ BaseLogitsProcessor\n",
      "rog0d: eighth step-> _call_ BaseLogitsProcessor\n",
      "rog0d: eighth step-> _call_ BaseLogitsProcessor\n",
      "rog0d: eighth step-> _call_ BaseLogitsProcessor\n",
      "rog0d: eighth step-> _call_ BaseLogitsProcessor\n",
      "rog0d: eighth step-> _call_ BaseLogitsProcessor\n",
      "rog0d: eighth step-> _call_ BaseLogitsProcessor\n",
      "rog0d: eighth step-> _call_ BaseLogitsProcessor\n",
      "rog0d: eighth step-> _call_ BaseLogitsProcessor\n",
      "rog0d: eighth step-> _call_ BaseLogitsProcessor\n",
      "rog0d: eighth step-> _call_ BaseLogitsProcessor\n",
      "rog0d: eighth step-> _call_ BaseLogitsProcessor\n",
      "rog0d: eighth step-> _call_ BaseLogitsProcessor\n",
      "rog0d: eighth step-> _call_ BaseLogitsProcessor\n",
      "rog0d: eighth step-> _call_ BaseLogitsProcessor\n",
      "rog0d: eighth step-> _call_ BaseLogitsProcessor\n",
      "rog0d: eighth step-> _call_ BaseLogitsProcessor\n",
      "rog0d: eighth step-> _call_ BaseLogitsProcessor\n",
      "rog0d: eighth step-> _call_ BaseLogitsProcessor\n",
      "rog0d: eighth step-> _call_ BaseLogitsProcessor\n",
      "rog0d: eighth step-> _call_ BaseLogitsProcessor\n",
      "rog0d: eighth step-> _call_ BaseLogitsProcessor\n",
      "rog0d: eighth step-> _call_ BaseLogitsProcessor\n",
      "rog0d: eighth step-> _call_ BaseLogitsProcessor\n",
      "rog0d: eighth step-> _call_ BaseLogitsProcessor\n",
      "rog0d: eighth step-> _call_ BaseLogitsProcessor\n",
      "rog0d: eighth step-> _call_ BaseLogitsProcessor\n",
      "rog0d: eighth step-> _call_ BaseLogitsProcessor\n",
      "rog0d: eighth step-> _call_ BaseLogitsProcessor\n",
      "rog0d: eighth step-> _call_ BaseLogitsProcessor\n",
      "rog0d: eighth step-> _call_ BaseLogitsProcessor\n",
      "rog0d: eighth step-> _call_ BaseLogitsProcessor\n",
      "rog0d: eighth step-> _call_ BaseLogitsProcessor\n",
      "rog0d: eighth step-> _call_ BaseLogitsProcessor\n"
     ]
    },
    {
     "name": "stderr",
     "output_type": "stream",
     "text": [
      "Processed prompts: 100%|██████████| 1/1 [00:11<00:00, 11.79s/it, est. speed input: 11.28 toks/s, output: 5.85 toks/s]"
     ]
    },
    {
     "name": "stdout",
     "output_type": "stream",
     "text": [
      "rog0d: eighth step-> _call_ BaseLogitsProcessor\n",
      "Elapsed time for generation nº6: 12.339034235104918 seconds\n",
      "rog0d: First step -> Exclusive guided decodings\n",
      "rog0d: Second step -> validate and add request\n",
      "rog0d: third step-> Decoding backend\n",
      "rog0d: fourth step-> outlines backend\n",
      "rog0d: fifth step-> outlines operation\n",
      "rog0d: sixth step-> check outlines guiding options\n",
      "rog0d: seventh step-> CFGLogitsProcessor class: CFGuide to BaseLogitsProcessor\n"
     ]
    },
    {
     "name": "stderr",
     "output_type": "stream",
     "text": [
      "\n"
     ]
    },
    {
     "name": "stdout",
     "output_type": "stream",
     "text": [
      "rog0d: ninth step-> _init_ CFGGuide\n"
     ]
    },
    {
     "name": "stderr",
     "output_type": "stream",
     "text": [
      "Processed prompts:   0%|          | 0/1 [00:00<?, ?it/s, est. speed input: 0.00 toks/s, output: 0.00 toks/s]"
     ]
    },
    {
     "name": "stdout",
     "output_type": "stream",
     "text": [
      "rog0d: eighth step-> _call_ BaseLogitsProcessor\n",
      "rog0d: eighth step-> _call_ BaseLogitsProcessor\n",
      "rog0d: eighth step-> _call_ BaseLogitsProcessor\n",
      "rog0d: eighth step-> _call_ BaseLogitsProcessor\n",
      "rog0d: eighth step-> _call_ BaseLogitsProcessor\n",
      "rog0d: eighth step-> _call_ BaseLogitsProcessor\n",
      "rog0d: eighth step-> _call_ BaseLogitsProcessor\n",
      "rog0d: eighth step-> _call_ BaseLogitsProcessor\n",
      "rog0d: eighth step-> _call_ BaseLogitsProcessor\n",
      "rog0d: eighth step-> _call_ BaseLogitsProcessor\n",
      "rog0d: eighth step-> _call_ BaseLogitsProcessor\n",
      "rog0d: eighth step-> _call_ BaseLogitsProcessor\n",
      "rog0d: eighth step-> _call_ BaseLogitsProcessor\n",
      "rog0d: eighth step-> _call_ BaseLogitsProcessor\n",
      "rog0d: eighth step-> _call_ BaseLogitsProcessor\n",
      "rog0d: eighth step-> _call_ BaseLogitsProcessor\n",
      "rog0d: eighth step-> _call_ BaseLogitsProcessor\n",
      "rog0d: eighth step-> _call_ BaseLogitsProcessor\n",
      "rog0d: eighth step-> _call_ BaseLogitsProcessor\n",
      "rog0d: eighth step-> _call_ BaseLogitsProcessor\n",
      "rog0d: eighth step-> _call_ BaseLogitsProcessor\n",
      "rog0d: eighth step-> _call_ BaseLogitsProcessor\n",
      "rog0d: eighth step-> _call_ BaseLogitsProcessor\n",
      "rog0d: eighth step-> _call_ BaseLogitsProcessor\n",
      "rog0d: eighth step-> _call_ BaseLogitsProcessor\n",
      "rog0d: eighth step-> _call_ BaseLogitsProcessor\n",
      "rog0d: eighth step-> _call_ BaseLogitsProcessor\n",
      "rog0d: eighth step-> _call_ BaseLogitsProcessor\n",
      "rog0d: eighth step-> _call_ BaseLogitsProcessor\n",
      "rog0d: eighth step-> _call_ BaseLogitsProcessor\n",
      "rog0d: eighth step-> _call_ BaseLogitsProcessor\n",
      "rog0d: eighth step-> _call_ BaseLogitsProcessor\n",
      "rog0d: eighth step-> _call_ BaseLogitsProcessor\n",
      "rog0d: eighth step-> _call_ BaseLogitsProcessor\n",
      "rog0d: eighth step-> _call_ BaseLogitsProcessor\n",
      "rog0d: eighth step-> _call_ BaseLogitsProcessor\n",
      "rog0d: eighth step-> _call_ BaseLogitsProcessor\n",
      "rog0d: eighth step-> _call_ BaseLogitsProcessor\n",
      "rog0d: eighth step-> _call_ BaseLogitsProcessor\n",
      "rog0d: eighth step-> _call_ BaseLogitsProcessor\n",
      "rog0d: eighth step-> _call_ BaseLogitsProcessor\n",
      "rog0d: eighth step-> _call_ BaseLogitsProcessor\n",
      "rog0d: eighth step-> _call_ BaseLogitsProcessor\n",
      "rog0d: eighth step-> _call_ BaseLogitsProcessor\n",
      "rog0d: eighth step-> _call_ BaseLogitsProcessor\n",
      "rog0d: eighth step-> _call_ BaseLogitsProcessor\n",
      "rog0d: eighth step-> _call_ BaseLogitsProcessor\n",
      "rog0d: eighth step-> _call_ BaseLogitsProcessor\n",
      "rog0d: eighth step-> _call_ BaseLogitsProcessor\n",
      "rog0d: eighth step-> _call_ BaseLogitsProcessor\n",
      "rog0d: eighth step-> _call_ BaseLogitsProcessor\n",
      "rog0d: eighth step-> _call_ BaseLogitsProcessor\n",
      "rog0d: eighth step-> _call_ BaseLogitsProcessor\n",
      "rog0d: eighth step-> _call_ BaseLogitsProcessor\n",
      "rog0d: eighth step-> _call_ BaseLogitsProcessor\n",
      "rog0d: eighth step-> _call_ BaseLogitsProcessor\n",
      "rog0d: eighth step-> _call_ BaseLogitsProcessor\n",
      "rog0d: eighth step-> _call_ BaseLogitsProcessor\n",
      "rog0d: eighth step-> _call_ BaseLogitsProcessor\n",
      "rog0d: eighth step-> _call_ BaseLogitsProcessor\n",
      "rog0d: eighth step-> _call_ BaseLogitsProcessor\n",
      "rog0d: eighth step-> _call_ BaseLogitsProcessor\n",
      "rog0d: eighth step-> _call_ BaseLogitsProcessor\n"
     ]
    },
    {
     "name": "stderr",
     "output_type": "stream",
     "text": [
      "Processed prompts: 100%|██████████| 1/1 [00:10<00:00, 10.88s/it, est. speed input: 12.22 toks/s, output: 5.88 toks/s]"
     ]
    },
    {
     "name": "stdout",
     "output_type": "stream",
     "text": [
      "rog0d: eighth step-> _call_ BaseLogitsProcessor\n",
      "Elapsed time for generation nº7: 11.422729100100696 seconds\n",
      "rog0d: First step -> Exclusive guided decodings\n",
      "rog0d: Second step -> validate and add request\n",
      "rog0d: third step-> Decoding backend\n",
      "rog0d: fourth step-> outlines backend\n",
      "rog0d: fifth step-> outlines operation\n",
      "rog0d: sixth step-> check outlines guiding options\n",
      "rog0d: seventh step-> CFGLogitsProcessor class: CFGuide to BaseLogitsProcessor\n"
     ]
    },
    {
     "name": "stderr",
     "output_type": "stream",
     "text": [
      "\n"
     ]
    },
    {
     "name": "stdout",
     "output_type": "stream",
     "text": [
      "rog0d: ninth step-> _init_ CFGGuide\n"
     ]
    },
    {
     "name": "stderr",
     "output_type": "stream",
     "text": [
      "Processed prompts:   0%|          | 0/1 [00:00<?, ?it/s, est. speed input: 0.00 toks/s, output: 0.00 toks/s]"
     ]
    },
    {
     "name": "stdout",
     "output_type": "stream",
     "text": [
      "rog0d: eighth step-> _call_ BaseLogitsProcessor\n",
      "rog0d: eighth step-> _call_ BaseLogitsProcessor\n",
      "rog0d: eighth step-> _call_ BaseLogitsProcessor\n",
      "rog0d: eighth step-> _call_ BaseLogitsProcessor\n",
      "rog0d: eighth step-> _call_ BaseLogitsProcessor\n",
      "rog0d: eighth step-> _call_ BaseLogitsProcessor\n",
      "rog0d: eighth step-> _call_ BaseLogitsProcessor\n",
      "rog0d: eighth step-> _call_ BaseLogitsProcessor\n",
      "rog0d: eighth step-> _call_ BaseLogitsProcessor\n",
      "rog0d: eighth step-> _call_ BaseLogitsProcessor\n",
      "rog0d: eighth step-> _call_ BaseLogitsProcessor\n",
      "rog0d: eighth step-> _call_ BaseLogitsProcessor\n",
      "rog0d: eighth step-> _call_ BaseLogitsProcessor\n",
      "rog0d: eighth step-> _call_ BaseLogitsProcessor\n",
      "rog0d: eighth step-> _call_ BaseLogitsProcessor\n",
      "rog0d: eighth step-> _call_ BaseLogitsProcessor\n",
      "rog0d: eighth step-> _call_ BaseLogitsProcessor\n",
      "rog0d: eighth step-> _call_ BaseLogitsProcessor\n",
      "rog0d: eighth step-> _call_ BaseLogitsProcessor\n",
      "rog0d: eighth step-> _call_ BaseLogitsProcessor\n",
      "rog0d: eighth step-> _call_ BaseLogitsProcessor\n",
      "rog0d: eighth step-> _call_ BaseLogitsProcessor\n",
      "rog0d: eighth step-> _call_ BaseLogitsProcessor\n",
      "rog0d: eighth step-> _call_ BaseLogitsProcessor\n",
      "rog0d: eighth step-> _call_ BaseLogitsProcessor\n",
      "rog0d: eighth step-> _call_ BaseLogitsProcessor\n",
      "rog0d: eighth step-> _call_ BaseLogitsProcessor\n",
      "rog0d: eighth step-> _call_ BaseLogitsProcessor\n",
      "rog0d: eighth step-> _call_ BaseLogitsProcessor\n",
      "rog0d: eighth step-> _call_ BaseLogitsProcessor\n",
      "rog0d: eighth step-> _call_ BaseLogitsProcessor\n",
      "rog0d: eighth step-> _call_ BaseLogitsProcessor\n",
      "rog0d: eighth step-> _call_ BaseLogitsProcessor\n",
      "rog0d: eighth step-> _call_ BaseLogitsProcessor\n",
      "rog0d: eighth step-> _call_ BaseLogitsProcessor\n",
      "rog0d: eighth step-> _call_ BaseLogitsProcessor\n",
      "rog0d: eighth step-> _call_ BaseLogitsProcessor\n",
      "rog0d: eighth step-> _call_ BaseLogitsProcessor\n",
      "rog0d: eighth step-> _call_ BaseLogitsProcessor\n",
      "rog0d: eighth step-> _call_ BaseLogitsProcessor\n",
      "rog0d: eighth step-> _call_ BaseLogitsProcessor\n",
      "rog0d: eighth step-> _call_ BaseLogitsProcessor\n",
      "rog0d: eighth step-> _call_ BaseLogitsProcessor\n",
      "rog0d: eighth step-> _call_ BaseLogitsProcessor\n",
      "rog0d: eighth step-> _call_ BaseLogitsProcessor\n",
      "rog0d: eighth step-> _call_ BaseLogitsProcessor\n",
      "rog0d: eighth step-> _call_ BaseLogitsProcessor\n",
      "rog0d: eighth step-> _call_ BaseLogitsProcessor\n",
      "rog0d: eighth step-> _call_ BaseLogitsProcessor\n",
      "rog0d: eighth step-> _call_ BaseLogitsProcessor\n",
      "rog0d: eighth step-> _call_ BaseLogitsProcessor\n",
      "rog0d: eighth step-> _call_ BaseLogitsProcessor\n",
      "rog0d: eighth step-> _call_ BaseLogitsProcessor\n",
      "rog0d: eighth step-> _call_ BaseLogitsProcessor\n",
      "rog0d: eighth step-> _call_ BaseLogitsProcessor\n",
      "rog0d: eighth step-> _call_ BaseLogitsProcessor\n",
      "rog0d: eighth step-> _call_ BaseLogitsProcessor\n",
      "rog0d: eighth step-> _call_ BaseLogitsProcessor\n",
      "rog0d: eighth step-> _call_ BaseLogitsProcessor\n",
      "rog0d: eighth step-> _call_ BaseLogitsProcessor\n",
      "rog0d: eighth step-> _call_ BaseLogitsProcessor\n",
      "rog0d: eighth step-> _call_ BaseLogitsProcessor\n",
      "rog0d: eighth step-> _call_ BaseLogitsProcessor\n",
      "rog0d: eighth step-> _call_ BaseLogitsProcessor\n",
      "rog0d: eighth step-> _call_ BaseLogitsProcessor\n",
      "rog0d: eighth step-> _call_ BaseLogitsProcessor\n",
      "rog0d: eighth step-> _call_ BaseLogitsProcessor\n",
      "rog0d: eighth step-> _call_ BaseLogitsProcessor\n",
      "rog0d: eighth step-> _call_ BaseLogitsProcessor\n",
      "rog0d: eighth step-> _call_ BaseLogitsProcessor\n",
      "rog0d: eighth step-> _call_ BaseLogitsProcessor\n",
      "rog0d: eighth step-> _call_ BaseLogitsProcessor\n",
      "rog0d: eighth step-> _call_ BaseLogitsProcessor\n",
      "rog0d: eighth step-> _call_ BaseLogitsProcessor\n",
      "rog0d: eighth step-> _call_ BaseLogitsProcessor\n",
      "rog0d: eighth step-> _call_ BaseLogitsProcessor\n",
      "rog0d: eighth step-> _call_ BaseLogitsProcessor\n",
      "rog0d: eighth step-> _call_ BaseLogitsProcessor\n",
      "rog0d: eighth step-> _call_ BaseLogitsProcessor\n",
      "rog0d: eighth step-> _call_ BaseLogitsProcessor\n",
      "rog0d: eighth step-> _call_ BaseLogitsProcessor\n",
      "rog0d: eighth step-> _call_ BaseLogitsProcessor\n",
      "rog0d: eighth step-> _call_ BaseLogitsProcessor\n"
     ]
    },
    {
     "name": "stderr",
     "output_type": "stream",
     "text": [
      "Processed prompts: 100%|██████████| 1/1 [00:13<00:00, 13.76s/it, est. speed input: 9.67 toks/s, output: 6.03 toks/s]\n"
     ]
    },
    {
     "name": "stdout",
     "output_type": "stream",
     "text": [
      "Elapsed time for generation nº8: 14.29607446398586 seconds\n",
      "rog0d: First step -> Exclusive guided decodings\n",
      "rog0d: Second step -> validate and add request\n",
      "rog0d: third step-> Decoding backend\n",
      "rog0d: fourth step-> outlines backend\n",
      "rog0d: fifth step-> outlines operation\n",
      "rog0d: sixth step-> check outlines guiding options\n",
      "rog0d: seventh step-> CFGLogitsProcessor class: CFGuide to BaseLogitsProcessor\n",
      "rog0d: ninth step-> _init_ CFGGuide\n"
     ]
    },
    {
     "name": "stderr",
     "output_type": "stream",
     "text": [
      "Processed prompts:   0%|          | 0/1 [00:00<?, ?it/s, est. speed input: 0.00 toks/s, output: 0.00 toks/s]"
     ]
    },
    {
     "name": "stdout",
     "output_type": "stream",
     "text": [
      "rog0d: eighth step-> _call_ BaseLogitsProcessor\n",
      "rog0d: eighth step-> _call_ BaseLogitsProcessor\n",
      "rog0d: eighth step-> _call_ BaseLogitsProcessor\n",
      "rog0d: eighth step-> _call_ BaseLogitsProcessor\n",
      "rog0d: eighth step-> _call_ BaseLogitsProcessor\n",
      "rog0d: eighth step-> _call_ BaseLogitsProcessor\n",
      "rog0d: eighth step-> _call_ BaseLogitsProcessor\n",
      "rog0d: eighth step-> _call_ BaseLogitsProcessor\n",
      "rog0d: eighth step-> _call_ BaseLogitsProcessor\n",
      "rog0d: eighth step-> _call_ BaseLogitsProcessor\n",
      "rog0d: eighth step-> _call_ BaseLogitsProcessor\n",
      "rog0d: eighth step-> _call_ BaseLogitsProcessor\n",
      "rog0d: eighth step-> _call_ BaseLogitsProcessor\n",
      "rog0d: eighth step-> _call_ BaseLogitsProcessor\n",
      "rog0d: eighth step-> _call_ BaseLogitsProcessor\n",
      "rog0d: eighth step-> _call_ BaseLogitsProcessor\n",
      "rog0d: eighth step-> _call_ BaseLogitsProcessor\n",
      "rog0d: eighth step-> _call_ BaseLogitsProcessor\n",
      "rog0d: eighth step-> _call_ BaseLogitsProcessor\n",
      "rog0d: eighth step-> _call_ BaseLogitsProcessor\n",
      "rog0d: eighth step-> _call_ BaseLogitsProcessor\n",
      "rog0d: eighth step-> _call_ BaseLogitsProcessor\n",
      "rog0d: eighth step-> _call_ BaseLogitsProcessor\n",
      "rog0d: eighth step-> _call_ BaseLogitsProcessor\n",
      "rog0d: eighth step-> _call_ BaseLogitsProcessor\n",
      "rog0d: eighth step-> _call_ BaseLogitsProcessor\n",
      "rog0d: eighth step-> _call_ BaseLogitsProcessor\n",
      "rog0d: eighth step-> _call_ BaseLogitsProcessor\n",
      "rog0d: eighth step-> _call_ BaseLogitsProcessor\n",
      "rog0d: eighth step-> _call_ BaseLogitsProcessor\n",
      "rog0d: eighth step-> _call_ BaseLogitsProcessor\n",
      "rog0d: eighth step-> _call_ BaseLogitsProcessor\n",
      "rog0d: eighth step-> _call_ BaseLogitsProcessor\n",
      "rog0d: eighth step-> _call_ BaseLogitsProcessor\n",
      "rog0d: eighth step-> _call_ BaseLogitsProcessor\n",
      "rog0d: eighth step-> _call_ BaseLogitsProcessor\n",
      "rog0d: eighth step-> _call_ BaseLogitsProcessor\n",
      "rog0d: eighth step-> _call_ BaseLogitsProcessor\n",
      "rog0d: eighth step-> _call_ BaseLogitsProcessor\n",
      "rog0d: eighth step-> _call_ BaseLogitsProcessor\n",
      "rog0d: eighth step-> _call_ BaseLogitsProcessor\n",
      "rog0d: eighth step-> _call_ BaseLogitsProcessor\n",
      "rog0d: eighth step-> _call_ BaseLogitsProcessor\n",
      "rog0d: eighth step-> _call_ BaseLogitsProcessor\n",
      "rog0d: eighth step-> _call_ BaseLogitsProcessor\n",
      "rog0d: eighth step-> _call_ BaseLogitsProcessor\n",
      "rog0d: eighth step-> _call_ BaseLogitsProcessor\n",
      "rog0d: eighth step-> _call_ BaseLogitsProcessor\n",
      "rog0d: eighth step-> _call_ BaseLogitsProcessor\n",
      "rog0d: eighth step-> _call_ BaseLogitsProcessor\n",
      "rog0d: eighth step-> _call_ BaseLogitsProcessor\n",
      "rog0d: eighth step-> _call_ BaseLogitsProcessor\n",
      "rog0d: eighth step-> _call_ BaseLogitsProcessor\n",
      "rog0d: eighth step-> _call_ BaseLogitsProcessor\n",
      "rog0d: eighth step-> _call_ BaseLogitsProcessor\n",
      "rog0d: eighth step-> _call_ BaseLogitsProcessor\n",
      "rog0d: eighth step-> _call_ BaseLogitsProcessor\n",
      "rog0d: eighth step-> _call_ BaseLogitsProcessor\n",
      "rog0d: eighth step-> _call_ BaseLogitsProcessor\n",
      "rog0d: eighth step-> _call_ BaseLogitsProcessor\n",
      "rog0d: eighth step-> _call_ BaseLogitsProcessor\n",
      "rog0d: eighth step-> _call_ BaseLogitsProcessor\n",
      "rog0d: eighth step-> _call_ BaseLogitsProcessor\n",
      "rog0d: eighth step-> _call_ BaseLogitsProcessor\n",
      "rog0d: eighth step-> _call_ BaseLogitsProcessor\n",
      "rog0d: eighth step-> _call_ BaseLogitsProcessor\n",
      "rog0d: eighth step-> _call_ BaseLogitsProcessor\n",
      "rog0d: eighth step-> _call_ BaseLogitsProcessor\n",
      "rog0d: eighth step-> _call_ BaseLogitsProcessor\n",
      "rog0d: eighth step-> _call_ BaseLogitsProcessor\n",
      "rog0d: eighth step-> _call_ BaseLogitsProcessor\n",
      "rog0d: eighth step-> _call_ BaseLogitsProcessor\n",
      "rog0d: eighth step-> _call_ BaseLogitsProcessor\n",
      "rog0d: eighth step-> _call_ BaseLogitsProcessor\n",
      "rog0d: eighth step-> _call_ BaseLogitsProcessor\n",
      "rog0d: eighth step-> _call_ BaseLogitsProcessor\n",
      "rog0d: eighth step-> _call_ BaseLogitsProcessor\n",
      "rog0d: eighth step-> _call_ BaseLogitsProcessor\n",
      "rog0d: eighth step-> _call_ BaseLogitsProcessor\n",
      "rog0d: eighth step-> _call_ BaseLogitsProcessor\n",
      "rog0d: eighth step-> _call_ BaseLogitsProcessor\n",
      "rog0d: eighth step-> _call_ BaseLogitsProcessor\n",
      "rog0d: eighth step-> _call_ BaseLogitsProcessor\n",
      "rog0d: eighth step-> _call_ BaseLogitsProcessor\n",
      "rog0d: eighth step-> _call_ BaseLogitsProcessor\n",
      "rog0d: eighth step-> _call_ BaseLogitsProcessor\n",
      "rog0d: eighth step-> _call_ BaseLogitsProcessor\n",
      "rog0d: eighth step-> _call_ BaseLogitsProcessor\n",
      "rog0d: eighth step-> _call_ BaseLogitsProcessor\n",
      "rog0d: eighth step-> _call_ BaseLogitsProcessor\n",
      "rog0d: eighth step-> _call_ BaseLogitsProcessor\n",
      "rog0d: eighth step-> _call_ BaseLogitsProcessor\n",
      "rog0d: eighth step-> _call_ BaseLogitsProcessor\n",
      "rog0d: eighth step-> _call_ BaseLogitsProcessor\n",
      "rog0d: eighth step-> _call_ BaseLogitsProcessor\n",
      "rog0d: eighth step-> _call_ BaseLogitsProcessor\n",
      "rog0d: eighth step-> _call_ BaseLogitsProcessor\n",
      "rog0d: eighth step-> _call_ BaseLogitsProcessor\n",
      "rog0d: eighth step-> _call_ BaseLogitsProcessor\n"
     ]
    },
    {
     "name": "stderr",
     "output_type": "stream",
     "text": [
      "Processed prompts: 100%|██████████| 1/1 [00:16<00:00, 16.51s/it, est. speed input: 8.06 toks/s, output: 6.00 toks/s]"
     ]
    },
    {
     "name": "stdout",
     "output_type": "stream",
     "text": [
      "Elapsed time for generation nº9: 17.051023880951107 seconds\n"
     ]
    },
    {
     "name": "stderr",
     "output_type": "stream",
     "text": [
      "\n"
     ]
    }
   ],
   "source": [
    "# Experiment variables init\n",
    "\n",
    "#seeds = [randint(1,SAMPLES*10e9) for i in range(SAMPLES)]\n",
    "seeds = fixed_seeds()\n",
    "only_generations = []\n",
    "elapsed_time_gens = []\n",
    "\n",
    "# Iterate experiments to generate completions\n",
    "for i in range(SAMPLES):\n",
    "    seed = seeds[i]\n",
    "\n",
    "    sampling_params = SamplingParams(\n",
    "    max_tokens=MAX_TOKENS,\n",
    "    temperature=1,\n",
    "    top_p=0.95,\n",
    "    seed= seed\n",
    "    )\n",
    "\n",
    "    start_time = time.perf_counter()\n",
    "\n",
    "    outputs = None\n",
    "\n",
    "    match EXPERIMENT_TYPE:\n",
    "        case \"gbd\":\n",
    "            outputs = llm.generate(\n",
    "                prompts=arithmetic_prompt,\n",
    "                sampling_params=sampling_params,\n",
    "                guided_options_request=dict(guided_grammar=grammar))\n",
    "            \n",
    "        case \"nogbd\":\n",
    "            outputs = llm.generate(\n",
    "                prompts=arithmetic_prompt,\n",
    "                sampling_params=sampling_params,\n",
    "                )\n",
    "            \n",
    "        case \"gbd+fewshots\":\n",
    "            outputs = llm.generate(\n",
    "                prompts=arithmetic_prompt,\n",
    "                sampling_params=sampling_params,\n",
    "                guided_options_request=dict(guided_grammar=grammar))\n",
    "\n",
    "    elapsed_time = time.perf_counter() - start_time\n",
    "    print(f'Elapsed time for generation nº{i}: {elapsed_time} seconds')\n",
    "\n",
    "    elapsed_time = None\n",
    "    gen_text = None\n",
    "    try:\n",
    "        elapsed_time = outputs[0].metrics.finished_time - outputs[0].metrics.arrival_time\n",
    "    except:\n",
    "        elapsed_time = outputs.metrics.finished_time - outputs.metrics.arrival_time\n",
    "    \n",
    "    gen_text = None\n",
    "    try:\n",
    "        gen_text = outputs[0].outputs[0].text\n",
    "    except:\n",
    "        gen_text = outputs.outputs[0].text\n",
    "                    \n",
    "    elapsed_time_gens.append(elapsed_time)\n",
    "    only_generations.append(Generation(seed=seed, elapsed_time=elapsed_time, gen=gen_text))\n"
   ]
  },
  {
   "cell_type": "code",
   "execution_count": 7,
   "metadata": {},
   "outputs": [
    {
     "name": "stdout",
     "output_type": "stream",
     "text": [
      "RequestOutput(request_id=9, prompt='\\n<|begin_of_text|><|start_header_id|>system<|end_header_id|>\\n\\nYou are a helpful AI assistant for creating gramatically, equivalent and correct arithmetical expression<|eot_id|>\\n<|start_header_id|>user<|end_header_id|>\\nGiven the following examples:\\n\\n(5*5)=(5+5+5+5+5)=(25*1)=(5*3)+(5*2).\\n\\n(3*3)=(3+3+3)=(3+6)=(9*1).\\n\\n(3*4*5)=3*(2+2)*5=15*4=15*(2+2)=(12*5)=(20*3).\\n\\nRewrite 9 * 15 as others equivalents expressions:\\n<|eot_id|><|start_header_id|>assistant<|end_header_id|>\\n', prompt_token_ids=[128000, 198, 128000, 128006, 9125, 128007, 271, 2675, 527, 264, 11190, 15592, 18328, 369, 6968, 23882, 7167, 11, 13890, 323, 4495, 802, 411, 4150, 950, 7645, 128009, 198, 128006, 882, 128007, 198, 22818, 279, 2768, 10507, 1473, 7, 20, 9, 20, 74273, 20, 10, 20, 10, 20, 10, 20, 10, 20, 74273, 914, 9, 16, 74273, 20, 9, 18, 42894, 20, 9, 17, 3677, 7, 18, 9, 18, 74273, 18, 10, 18, 10, 18, 74273, 18, 10, 21, 74273, 24, 9, 16, 3677, 7, 18, 9, 19, 9, 20, 11992, 18, 6737, 17, 10, 17, 4911, 20, 28, 868, 9, 19, 28, 868, 6737, 17, 10, 17, 74273, 717, 9, 20, 74273, 508, 9, 18, 3677, 59565, 1269, 220, 24, 353, 220, 868, 439, 3885, 86106, 24282, 512, 128009, 128006, 78191, 128007, 198], encoder_prompt=None, encoder_prompt_token_ids=None, prompt_logprobs=None, outputs=[CompletionOutput(index=0, text='9*15==9*3*5==3*3*3*5==3*9*5==3*45==15*9==5*3*9==5*27==3*15*3==3*3*15==9*3*5==135*1==3*3*15==3*45==45*3==9*15.<|eot_id|>', token_ids=array('l', [24, 9, 868, 28, 28, 24, 9, 18, 9, 20, 28, 28, 18, 9, 18, 9, 18, 9, 20, 28, 28, 18, 9, 24, 9, 20, 28, 28, 18, 9, 1774, 28, 28, 868, 9, 24, 28, 28, 20, 9, 18, 9, 24, 28, 28, 20, 9, 1544, 28, 28, 18, 9, 868, 9, 18, 28, 28, 18, 9, 18, 9, 868, 28, 28, 24, 9, 18, 9, 20, 28, 28, 8878, 9, 16, 28, 28, 18, 9, 18, 9, 868, 28, 28, 18, 9, 1774, 28, 28, 1774, 9, 18, 28, 28, 24, 9, 868, 13, 128009, 128001]), cumulative_logprob=None, logprobs=None, finish_reason=stop, stop_reason=None)], finished=True, metrics=RequestMetrics(arrival_time=1729608975.9374125, last_token_time=1729608975.9374125, first_scheduled_time=1729608975.9404485, first_token_time=1729608976.2518475, time_in_queue=0.003036022186279297, finished_time=1729608992.448246, scheduler_time=0.013556153979152441, model_forward_time=None, model_execute_time=None), lora_request=None)\n",
      "RequestMetrics(arrival_time=1729608975.9374125, last_token_time=1729608975.9374125, first_scheduled_time=1729608975.9404485, first_token_time=1729608976.2518475, time_in_queue=0.003036022186279297, finished_time=1729608992.448246, scheduler_time=0.013556153979152441, model_forward_time=None, model_execute_time=None)\n",
      "9*15==9*3*5==3*3*3*5==3*9*5==3*45==15*9==5*3*9==5*27==3*15*3==3*3*15==9*3*5==135*1==3*3*15==3*45==45*3==9*15.<|eot_id|>\n",
      "9*15==9*3*5==3*3*3*5==3*9*5==3*45==15*9==5*3*9==5*27==3*15*3==3*3*15==9*3*5==135*1==3*3*15==3*45==45*3==9*15.\n"
     ]
    }
   ],
   "source": [
    "# testing request and eot_id\n",
    "print(outputs[0])\n",
    "print(outputs[0].metrics)\n",
    "print(outputs[0].outputs[0].text)\n",
    "print(outputs[0].outputs[0].text.split(\"<|eot_id|>\")[0])\n"
   ]
  },
  {
   "cell_type": "code",
   "execution_count": 8,
   "metadata": {},
   "outputs": [
    {
     "name": "stdout",
     "output_type": "stream",
     "text": [
      "{'seed': 424533559246, 'elapsed_time': 18.944291353225708, 'gen': '9*15==9*3*5==3*3*3*5==3*3*15==3*45==9*5*3==9*10+5==90+45==135<|eot_id|>'}\n",
      "{'seed': 978212965549, 'elapsed_time': 18.003395080566406, 'gen': '9*15==9*3*5==9*10+45==45+45==90*1==10*9==3*3*15==3*45==5*27==27*3+12<|eot_id|>'}\n",
      "{'seed': 44756014166, 'elapsed_time': 12.814391613006592, 'gen': '9*15==9*3*5==3*3*3*5==3*3*15==3*45==45*3==5*27==27*5==3*5*3*5==15*9<|eot_id|>'}\n",
      "{'seed': 534771852899, 'elapsed_time': 26.59004831314087, 'gen': '9*15==9*3*5==9*5*3==3*3*3*5==3*3*15==45*3==3*45==15*9<|eot_id|>                                                   '}\n",
      "{'seed': 913899456058, 'elapsed_time': 9.965386867523193, 'gen': '9*15==9*3*5==3*3*3*5==3*3*15==3*45==9*5*3==9*10+5==5*9*3==135*1<|eot_id|>'}\n",
      "{'seed': 392888992261, 'elapsed_time': 12.098276615142822, 'gen': '9*15==9+9+9+9+9+9+9+9+9+9+9+9+9+9+9==3*3*15==3*45==9*3*5==9*10+5==135<|eot_id|>   '}\n",
      "{'seed': 981758150272, 'elapsed_time': 11.794308185577393, 'gen': '9*15==9*3*5==3*3*3*5==3*15==15*9==9*10+45==9*12+27==9*7+72==5*27+18==27*3+18==135<|eot_id|>'}\n",
      "{'seed': 240123516436, 'elapsed_time': 10.88530445098877, 'gen': '9*15==9*3*5==3*27==3*3*9==15*9==10*9+5*9==45*3==45+45+45==9*5+9*10==135*1<|eot_id|>'}\n",
      "{'seed': 152491468919, 'elapsed_time': 13.75890040397644, 'gen': '9*15==9*3*5==3*3*3*5==3*15==3*5*3==9*5*3==5*9*3==15*9==15*3*3==3*45==3*5*9==9*45/3==135/1<|eot_id|>'}\n",
      "{'seed': 151534339700, 'elapsed_time': 16.510833501815796, 'gen': '9*15==9*3*5==3*3*3*5==3*9*5==3*45==15*9==5*3*9==5*27==3*15*3==3*3*15==9*3*5==135*1==3*3*15==3*45==45*3==9*15.<|eot_id|>'}\n"
     ]
    }
   ],
   "source": [
    "for gen in only_generations:\n",
    "    print(gen.__dict__)\n",
    "\n",
    "assert(len(only_generations) == SAMPLES)"
   ]
  },
  {
   "cell_type": "code",
   "execution_count": 9,
   "metadata": {},
   "outputs": [],
   "source": [
    "# Save and load results\n",
    "\n",
    "# Write the jsonl and serialize the gens\n",
    "with open(f\"./samples/{MODEL}/{EXPERIMENT_TYPE}/{SAMPLES}e_{MAX_TOKENS}t.jsonl\", 'w') as file:\n",
    "    for gen in only_generations:\n",
    "        json_line = json.dumps(gen.__dict__)\n",
    "        file.write(json_line + \"\\n\")\n",
    "\n",
    "# Read the jsonl and deserialize back\n",
    "generation_from_file = []\n",
    "with open(f\"./samples/{MODEL}/{EXPERIMENT_TYPE}/{SAMPLES}e_{MAX_TOKENS}t.jsonl\", \"r\") as file:\n",
    "    for line in file:\n",
    "        gen = json.loads(line, object_hook=gen_encoder)\n",
    "        generation_from_file.append(gen)\n"
   ]
  },
  {
   "cell_type": "code",
   "execution_count": 10,
   "metadata": {},
   "outputs": [],
   "source": [
    "# Checking syntax\n",
    "syntactic_results=[]\n",
    "parser = Lark(grammar, parser='lalr')\n",
    "\n",
    "for gen in generation_from_file:\n",
    "\n",
    "    try:\n",
    "        # Parse a generation\n",
    "        gen_preprocesed = gen_preproc(gen.gen)\n",
    "        syntax_text(generation=gen_preprocesed, parser=parser)\n",
    "        syntactic_results.append(1)\n",
    "\n",
    "    except:\n",
    "        syntactic_results.append(0)\n"
   ]
  },
  {
   "cell_type": "code",
   "execution_count": 11,
   "metadata": {},
   "outputs": [
    {
     "name": "stdout",
     "output_type": "stream",
     "text": [
      "total syntactically valid: 10\n",
      "total syntactically invalid: 0\n",
      "Percentaje syntactically valid: 1.0%\n"
     ]
    }
   ],
   "source": [
    "print(f\"total syntactically valid: {syntactic_results.count(1)}\" )\n",
    "print(f\"total syntactically invalid: {syntactic_results.count(0)}\" )\n",
    "\n",
    "print(f\"Percentaje syntactically valid: {syntactic_results.count(1)/SAMPLES}%\" )\n"
   ]
  },
  {
   "cell_type": "code",
   "execution_count": 12,
   "metadata": {},
   "outputs": [],
   "source": [
    "# Checking semantic\n",
    "\n",
    "semantic_results=[]\n",
    "\n",
    "for gen in generation_from_file:\n",
    "\n",
    "    try:\n",
    "        # Parse a generation\n",
    "        gen_preprocesed = gen_preproc(gen.gen)\n",
    "        semantic_test(generation=gen_preprocesed)\n",
    "        semantic_results.append(1)\n",
    "\n",
    "    except:\n",
    "        semantic_results.append(0)\n"
   ]
  },
  {
   "cell_type": "code",
   "execution_count": 13,
   "metadata": {},
   "outputs": [
    {
     "name": "stdout",
     "output_type": "stream",
     "text": [
      "total semantically valid: 10\n",
      "total semantically invalid: 0\n",
      "Percentaje semantically valid: 1.0%\n"
     ]
    }
   ],
   "source": [
    "print(f\"total semantically valid: {semantic_results.count(1)}\" )\n",
    "print(f\"total semantically invalid: {semantic_results.count(0)}\" )\n",
    "\n",
    "print(f\"Percentaje semantically valid: {semantic_results.count(1)/SAMPLES}%\" )"
   ]
  },
  {
   "cell_type": "code",
   "execution_count": 14,
   "metadata": {},
   "outputs": [],
   "source": [
    "res = Result(seeds=seeds, elapsed_time_gen= elapsed_time_gens, syntax_validation= syntactic_results, semantic_validation=semantic_results)\n",
    "res.save()"
   ]
  },
  {
   "cell_type": "code",
   "execution_count": 34,
   "metadata": {},
   "outputs": [],
   "source": [
    "seeds = [randint(1,100*10e9) for i in range(100)]\n"
   ]
  },
  {
   "cell_type": "code",
   "execution_count": 39,
   "metadata": {},
   "outputs": [
    {
     "name": "stdout",
     "output_type": "stream",
     "text": [
      "[424533559246, 978212965549, 44756014166, 534771852899, 913899456058, 392888992261, 981758150272, 240123516436, 152491468919, 151534339700, 106325369466, 878829203005, 588022882667, 777315144758, 664904820127, 162788563212, 108706256090, 80444014844, 935868384285, 363714941483, 616208160856, 386979565045, 345462137507, 702703408826, 227259652029, 609741931458, 487380045831, 574947128223, 65543315396, 98844556457, 926509076717, 779102014642, 862536141389, 690064463490, 670019806534, 908358000256, 368798545707, 799911506283, 774490855371, 72458122217, 242955608656, 881493143288, 158774376403, 600450083710, 100708262469, 963447298339, 540877402764, 331180881682, 320195254712, 136178644350, 367423460971, 225658799810, 880312983411, 603886083987, 316056408696, 100695461126, 878734360942, 349545488806, 264465407347, 203110418637, 902756561703, 35161735606, 286288172152, 75061129085, 743415134881, 144987804857, 166974457324, 42620596937, 89517685033, 772656770167, 914497675644, 749646168506, 920803605059, 578554786802, 572414489918, 261183956518, 239871715732, 746873505287, 908771276241, 463640709749, 303137481843, 543101033090, 707210368849, 773078040818, 394249329243, 356836074865, 127185934983, 646334356341, 367778682376, 209788010755, 18223699246, 299494465715, 773597201235, 408968763925, 188096301625, 469579667166, 67928829508, 859425565198, 936931475451, 243514641159]\n",
      "200\n",
      "200\n",
      "50\n"
     ]
    }
   ],
   "source": [
    "# dirty script to extend the 100 original seeds to 200 and 50\n",
    "seeds_100 = fixed_seeds()\n",
    "\n",
    "with open(f\"./seeds/100.jsonl\", \"w\") as file:\n",
    "    json_line = json.dumps(seeds_100)\n",
    "    file.write(json_line + \"\\n\")\n",
    "    \n",
    "load_100 = []\n",
    "with open(f\"./seeds/100.jsonl\", \"r\") as file:\n",
    "    for line in file:\n",
    "        load_100 = json.loads(line)\n",
    "\n",
    "print(load_100)\n",
    "\n",
    "load_100.extend(seeds)\n",
    "unique_200_seed = set(load_100)\n",
    "print(len(unique_200_seed))\n",
    "\n",
    "with open(f\"./seeds/200.jsonl\", \"w\") as file:\n",
    "    json_line = json.dumps(load_100)\n",
    "    file.write(json_line + \"\\n\")\n",
    "\n",
    "with open(f\"./seeds/200.jsonl\", \"r\") as file:\n",
    "    for line in file:\n",
    "        load_200 = json.loads(line)\n",
    "\n",
    "print(len(load_200))\n",
    "\n",
    "load_50 = load_100[:50]\n",
    "with open(f\"./seeds/50.jsonl\", \"w\") as file:\n",
    "    json_line = json.dumps(load_50)\n",
    "    file.write(json_line + \"\\n\")\n",
    "\n",
    "with open(f\"./seeds/50.jsonl\", \"r\") as file:\n",
    "    for line in file:\n",
    "        load_50 = json.loads(line)\n",
    "\n",
    "print(len(load_50))"
   ]
  },
  {
   "cell_type": "code",
   "execution_count": 56,
   "metadata": {},
   "outputs": [
    {
     "name": "stdout",
     "output_type": "stream",
     "text": [
      "==== Results for type experiment: gbd and max_tokens: 50 ====\n",
      "82\n",
      "82\n",
      "==== Results for type experiment: gbd and max_tokens: 100 ====\n",
      "99\n",
      "99\n",
      "==== Results for type experiment: gbd and max_tokens: 200 ====\n",
      "100\n",
      "100\n",
      "==== Results for type experiment: nogbd and max_tokens: 50 ====\n",
      "73\n",
      "80\n",
      "==== Results for type experiment: nogbd and max_tokens: 100 ====\n",
      "73\n",
      "80\n",
      "==== Results for type experiment: nogbd and max_tokens: 200 ====\n",
      "73\n",
      "80\n",
      "==== Results for type experiment: gbd+fewshots and max_tokens: 50 ====\n",
      "35\n",
      "35\n",
      "==== Results for type experiment: gbd+fewshots and max_tokens: 100 ====\n",
      "85\n",
      "85\n",
      "==== Results for type experiment: gbd+fewshots and max_tokens: 200 ====\n",
      "100\n",
      "100\n"
     ]
    }
   ],
   "source": [
    "# Reading results\n",
    "SAMPLES = 100\n",
    "MODEL_FOLDERNAME = \"study-hjt::Meta-Llama-3-70B-Instruct-GPTQ-Int8\"\n",
    "experiments = [\"gbd\",\"nogbd\",\"gbd+fewshots\"]\n",
    "tokens = [50, 100, 200] \n",
    "total_results = {}\n",
    "total_gens = {}\n",
    "for experiment in experiments:\n",
    "    for token in tokens:\n",
    "        print(f\"==== Results for type experiment: {experiment} and max_tokens: {token} ====\")\n",
    "        results = Result.load(MODEL_FOLDERNAME, experiment, SAMPLES, token)\n",
    "        total_results[f\"{experiment}-{token}\"] = results\n",
    "        \n",
    "        gens = Generation.load(MODEL_FOLDERNAME, experiment, SAMPLES, token)\n",
    "        total_gens[f\"{experiment}-{token}\"] = gens\n",
    "\n",
    "        print(str(total_results[f\"{experiment}-{token}\"].syntax_validation.count(1)))\n",
    "        print(str(total_results[f\"{experiment}-{token}\"].semantic_validation.count(1)))\n",
    "\n",
    "        \n",
    "    "
   ]
  },
  {
   "cell_type": "code",
   "execution_count": 57,
   "metadata": {},
   "outputs": [
    {
     "name": "stdout",
     "output_type": "stream",
     "text": [
      "{\"seed\": 424533559246, \"elapsed_time\": 1.35030198097229, \"gen\": \" ( 135 / 9 )<|eot_id|><|start_header_id|>assistant<|end_header_id|>\\n\\n( 90 + 45 )<|eot_id|><|start_header_id|>assistant<|end_header_id|>\\n\\n( 10 * 9 ) + ( 5 * 9 )<|eot_id|><|start_header_id|>assistant<|end_header_id|>\\n\\n( 15 + 15\"}\n",
      "{\"seed\": 424533559246, \"elapsed_time\": 2.5521862506866455, \"gen\": \" ( 135 / 9 )<|eot_id|><|start_header_id|>assistant<|end_header_id|>\\n\\n( 90 + 45 )<|eot_id|><|start_header_id|>assistant<|end_header_id|>\\n\\n( 10 * 9 ) + ( 5 * 9 )<|eot_id|><|start_header_id|>assistant<|end_header_id|>\\n\\n( 15 + 15 + 15 + 15 + 15 + 15 + 15 + 15 + 15 )<|eot_id|><|start_header_id|>assistant<|end_header_id|>\\n\\n( 9 + 9 + 9 + 9 + 9 + 9 + 9 + \"}\n",
      "{\"seed\": 424533559246, \"elapsed_time\": 5.151272296905518, \"gen\": \" ( 135 / 9 )<|eot_id|><|start_header_id|>assistant<|end_header_id|>\\n\\n( 90 + 45 )<|eot_id|><|start_header_id|>assistant<|end_header_id|>\\n\\n( 10 * 9 ) + ( 5 * 9 )<|eot_id|><|start_header_id|>assistant<|end_header_id|>\\n\\n( 15 + 15 + 15 + 15 + 15 + 15 + 15 + 15 + 15 )<|eot_id|><|start_header_id|>assistant<|end_header_id|>\\n\\n( 9 + 9 + 9 + 9 + 9 + 9 + 9 + 9 + 9 + 9 + 9 + 9 + 9 + 9 + 9 )<|eot_id|><|start_header_id|>assistant<|end_header_id|>\\n\\n( 3 * 45 )<|eot_id|><|start_header_id|>assistant<|end_header_id|>\\n\\n( 5 * 3 ) * 9<|eot_id|><|start_header_id|><|start_header_id|>assistant<|end_header_id|>\\n\\n( 10 * 9 ) + 45<|eot_id|><|start_header_id|>assistant<|end_header_id|>\\n\\n( 45 + 45 + 9 )<|eot_id|><|start_header_id|>assistant<|end_header_id|>\\n\\n( 90 + 45 / 3 )<|eot_id|><|start_header_id|>assistant<|end_header_id|>\"}\n"
     ]
    }
   ],
   "source": [
    "print(total_gens[\"nogbd-50\"][0])\n",
    "print(total_gens[\"nogbd-100\"][0])\n",
    "print(total_gens[\"nogbd-200\"][0])\n"
   ]
  },
  {
   "cell_type": "code",
   "execution_count": null,
   "metadata": {},
   "outputs": [],
   "source": [
    "MODEL = \"hugging-quants::Meta-Llama-3.1-70B-Instruct-GPTQ-INT4\"\n"
   ]
  }
 ],
 "metadata": {
  "kernelspec": {
   "display_name": "vllm",
   "language": "python",
   "name": "python3"
  },
  "language_info": {
   "codemirror_mode": {
    "name": "ipython",
    "version": 3
   },
   "file_extension": ".py",
   "mimetype": "text/x-python",
   "name": "python",
   "nbconvert_exporter": "python",
   "pygments_lexer": "ipython3",
   "version": "3.10.14"
  }
 },
 "nbformat": 4,
 "nbformat_minor": 2
}
